{
 "cells": [
  {
   "cell_type": "code",
   "execution_count": 42,
   "id": "ed93293c",
   "metadata": {},
   "outputs": [],
   "source": [
    "import pandas as pd"
   ]
  },
  {
   "cell_type": "code",
   "execution_count": 43,
   "id": "eea31447",
   "metadata": {},
   "outputs": [],
   "source": [
    "import opendatasets as od"
   ]
  },
  {
   "cell_type": "code",
   "execution_count": 44,
   "id": "d7cde196",
   "metadata": {},
   "outputs": [
    {
     "name": "stdout",
     "output_type": "stream",
     "text": [
      "Skipping, found downloaded files in \".\\sentiment140\" (use force=True to force download)\n"
     ]
    }
   ],
   "source": [
    "od.download(\"https://www.kaggle.com/datasets/kazanova/sentiment140\")"
   ]
  },
  {
   "cell_type": "code",
   "execution_count": 45,
   "id": "78be8d33",
   "metadata": {},
   "outputs": [],
   "source": [
    "df_sent_train = pd.read_csv(\"Data/training.1600000.processed.noemoticon.csv\").iloc[::-1]"
   ]
  },
  {
   "cell_type": "code",
   "execution_count": 46,
   "id": "cc3a7166",
   "metadata": {},
   "outputs": [
    {
     "data": {
      "text/html": [
       "<div>\n",
       "<style scoped>\n",
       "    .dataframe tbody tr th:only-of-type {\n",
       "        vertical-align: middle;\n",
       "    }\n",
       "\n",
       "    .dataframe tbody tr th {\n",
       "        vertical-align: top;\n",
       "    }\n",
       "\n",
       "    .dataframe thead th {\n",
       "        text-align: right;\n",
       "    }\n",
       "</style>\n",
       "<table border=\"1\" class=\"dataframe\">\n",
       "  <thead>\n",
       "    <tr style=\"text-align: right;\">\n",
       "      <th></th>\n",
       "      <th>Sentiment</th>\n",
       "      <th>ID</th>\n",
       "      <th>Date</th>\n",
       "      <th>QUERY</th>\n",
       "      <th>Username</th>\n",
       "      <th>OriginalTweet</th>\n",
       "    </tr>\n",
       "  </thead>\n",
       "  <tbody>\n",
       "    <tr>\n",
       "      <th>480817</th>\n",
       "      <td>4</td>\n",
       "      <td>1960158090</td>\n",
       "      <td>Fri May 29 07:30:59 PDT 2009</td>\n",
       "      <td>NO_QUERY</td>\n",
       "      <td>djbabyyu</td>\n",
       "      <td>@latinprince whats good homie!! ill be there i...</td>\n",
       "    </tr>\n",
       "    <tr>\n",
       "      <th>480816</th>\n",
       "      <td>4</td>\n",
       "      <td>1960158006</td>\n",
       "      <td>Fri May 29 07:30:59 PDT 2009</td>\n",
       "      <td>NO_QUERY</td>\n",
       "      <td>YUMMYBUM50</td>\n",
       "      <td>@Amanda_Holden Just looked on web to see if yo...</td>\n",
       "    </tr>\n",
       "    <tr>\n",
       "      <th>480815</th>\n",
       "      <td>4</td>\n",
       "      <td>1960157924</td>\n",
       "      <td>Fri May 29 07:30:58 PDT 2009</td>\n",
       "      <td>NO_QUERY</td>\n",
       "      <td>jessjohnson18</td>\n",
       "      <td>On way home blasting mcfly in the back of the ...</td>\n",
       "    </tr>\n",
       "    <tr>\n",
       "      <th>480814</th>\n",
       "      <td>4</td>\n",
       "      <td>1960157859</td>\n",
       "      <td>Fri May 29 07:30:58 PDT 2009</td>\n",
       "      <td>NO_QUERY</td>\n",
       "      <td>flattopgoo</td>\n",
       "      <td>@googoodolls omg that is hilarious.  thanks fo...</td>\n",
       "    </tr>\n",
       "    <tr>\n",
       "      <th>480813</th>\n",
       "      <td>4</td>\n",
       "      <td>1960157836</td>\n",
       "      <td>Fri May 29 07:30:58 PDT 2009</td>\n",
       "      <td>NO_QUERY</td>\n",
       "      <td>danthedormant</td>\n",
       "      <td>breakfast in bed on my day off? Excellent idea</td>\n",
       "    </tr>\n",
       "  </tbody>\n",
       "</table>\n",
       "</div>"
      ],
      "text/plain": [
       "        Sentiment          ID                          Date     QUERY  \\\n",
       "480817          4  1960158090  Fri May 29 07:30:59 PDT 2009  NO_QUERY   \n",
       "480816          4  1960158006  Fri May 29 07:30:59 PDT 2009  NO_QUERY   \n",
       "480815          4  1960157924  Fri May 29 07:30:58 PDT 2009  NO_QUERY   \n",
       "480814          4  1960157859  Fri May 29 07:30:58 PDT 2009  NO_QUERY   \n",
       "480813          4  1960157836  Fri May 29 07:30:58 PDT 2009  NO_QUERY   \n",
       "\n",
       "             Username                                      OriginalTweet  \n",
       "480817       djbabyyu  @latinprince whats good homie!! ill be there i...  \n",
       "480816     YUMMYBUM50  @Amanda_Holden Just looked on web to see if yo...  \n",
       "480815  jessjohnson18  On way home blasting mcfly in the back of the ...  \n",
       "480814     flattopgoo  @googoodolls omg that is hilarious.  thanks fo...  \n",
       "480813  danthedormant    breakfast in bed on my day off? Excellent idea   "
      ]
     },
     "execution_count": 46,
     "metadata": {},
     "output_type": "execute_result"
    }
   ],
   "source": [
    "df_sent_train.head()"
   ]
  },
  {
   "cell_type": "code",
   "execution_count": 47,
   "id": "0bcb84ad",
   "metadata": {},
   "outputs": [
    {
     "name": "stdout",
     "output_type": "stream",
     "text": [
      "['@cassiefx', 'lost', 'cause', 'girl', ' ', ';)']\n"
     ]
    }
   ],
   "source": [
    "import string\n",
    "import spacy\n",
    "from sklearn.feature_extraction.text import CountVectorizer,TfidfVectorizer\n",
    "from sklearn.base import TransformerMixin\n",
    "from sklearn.pipeline import Pipeline\n",
    "from spacy.lang.en.stop_words import STOP_WORDS\n",
    "from spacy.lang.en import English\n",
    "\n",
    "# Create our list of punctuation marks\n",
    "punctuations = string.punctuation\n",
    "\n",
    "# Create our list of stopwords\n",
    "nlp = spacy.load('en_core_web_sm')\n",
    "stop_words = spacy.lang.en.stop_words.STOP_WORDS\n",
    "\n",
    "# Load English tokenizer, tagger, parser, NER and word vectors\n",
    "parser = English()\n",
    "\n",
    "# Creating our tokenizer function\n",
    "def spacy_tokenizer(sentence):\n",
    "    # Creating our token object, which is used to create documents with linguistic annotations.\n",
    "    mytokens = parser(sentence)\n",
    "    # Lemmatizing each token and converting each token into lowercase\n",
    "    mytokens = [ word.lower_ for word in mytokens ]\n",
    "    # Removing stop words\n",
    "    mytokens = [ word for word in mytokens if word not in stop_words and word not in punctuations ]\n",
    "    # return preprocessed list of tokens\n",
    "    return mytokens\n",
    "print(spacy_tokenizer(df_sent_train['OriginalTweet'][1]))\n",
    "\n",
    "# Custom transformer using spaCy\n",
    "class predictors(TransformerMixin):\n",
    "    def transform(self, X, **transform_params):\n",
    "        # Cleaning Text\n",
    "        return [clean_text(text) for text in X]\n",
    "\n",
    "    def fit(self, X, y=None, **fit_params):\n",
    "        return self\n",
    "\n",
    "    def get_params(self, deep=True):\n",
    "        return {}\n",
    "\n",
    "# Basic function to clean the text\n",
    "def clean_text(text):\n",
    "    # Removing spaces and converting text into lowercase\n",
    "    return text.strip().lower()"
   ]
  },
  {
   "cell_type": "code",
   "execution_count": 48,
   "id": "73c6f5c1",
   "metadata": {},
   "outputs": [
    {
     "name": "stdout",
     "output_type": "stream",
     "text": [
      "248428\n",
      "232390\n",
      "408695\n",
      "408695\n"
     ]
    }
   ],
   "source": [
    "import random\n",
    "from sklearn.model_selection import train_test_split\n",
    "\n",
    "OT = df_sent_train['OriginalTweet'] # the features we want to analyze\n",
    "pre_sent = df_sent_train['Sentiment'] # the labels, or answers, we want to test against\n",
    "\n",
    "Sent = []\n",
    "neg = 0\n",
    "pos = 0\n",
    "for rank in pre_sent:    \n",
    "    if rank == 0 or rank == 2:\n",
    "        neg = neg +1\n",
    "        if(neg <= pos*1.5):\n",
    "            Sent.append(0)\n",
    "    else: \n",
    "        Sent.append(1)\n",
    "        pos = pos +1\n",
    "\n",
    "print(pos)\n",
    "print(neg)\n",
    "c = list(zip(OT,Sent))\n",
    "random.shuffle(c)\n",
    "OT, Sent = zip(*c)\n",
    "    \n",
    "OT_train, OT_val, Sent_train, Sent_val = train_test_split(OT, Sent, test_size=0.15)\n",
    "print(len(OT_train))\n",
    "print(len(Sent_train))"
   ]
  },
  {
   "cell_type": "code",
   "execution_count": 49,
   "id": "66b60f4a",
   "metadata": {},
   "outputs": [],
   "source": [
    "#Precision, Recall and F1 are all based on if the tweet are classified \n",
    "#as \"Not Negative\" in any way\n",
    "from sklearn import metrics\n",
    "def report(method, predictions, truth):\n",
    "    print(method)\n",
    "    print(\"Accuracy:\",metrics.accuracy_score(truth, predictions))\n",
    "    print(\"Precision:\",metrics.precision_score(truth, predictions))\n",
    "    print(\"Recall:\",metrics.recall_score(truth, predictions))\n",
    "    F1 = 2*((metrics.precision_score(truth, predictions)*metrics.recall_score(truth, predictions))\n",
    "            /(metrics.precision_score(truth, predictions)+metrics.recall_score(truth, predictions)))\n",
    "    print(\"F1: \", F1)\n",
    "    return [method, metrics.accuracy_score(truth, predictions), metrics.precision_score(truth, predictions), \n",
    "            metrics.recall_score(truth, predictions), F1]"
   ]
  },
  {
   "cell_type": "code",
   "execution_count": 50,
   "id": "881731b8",
   "metadata": {},
   "outputs": [
    {
     "name": "stdout",
     "output_type": "stream",
     "text": [
      "Random Forest Classifier\n",
      "Accuracy: 0.7512582671269914\n",
      "Precision: 0.7653086453668855\n",
      "Recall: 0.7477654006173668\n",
      "F1:  0.7564353209514499\n"
     ]
    },
    {
     "data": {
      "text/plain": [
       "['Random Forest Classifier',\n",
       " 0.7512582671269914,\n",
       " 0.7653086453668855,\n",
       " 0.7477654006173668,\n",
       " 0.7564353209514499]"
      ]
     },
     "execution_count": 50,
     "metadata": {},
     "output_type": "execute_result"
    }
   ],
   "source": [
    "# your code here\n",
    "from sklearn.ensemble import RandomForestClassifier\n",
    "clf = RandomForestClassifier(bootstrap = False, \n",
    "                            criterion = 'entropy',\n",
    "                            n_estimators = 100, )\n",
    "forestpipe = Pipeline([('bow',CountVectorizer()),\n",
    "                     ('clf',clf)])\n",
    "forestpipe.fit(OT_train[:20000],Sent_train[:20000])\n",
    "predicted = forestpipe.predict(OT_val)\n",
    "report(\"Random Forest Classifier\", predicted, Sent_val)"
   ]
  },
  {
   "cell_type": "code",
   "execution_count": 51,
   "id": "59887af4",
   "metadata": {},
   "outputs": [],
   "source": [
    "s1 = pd.read_csv(\"Data/Transcripts/MFs1CSV.csv\")\n",
    "s2 = pd.read_csv(\"Data/Transcripts/MFs2CSV.csv\")\n",
    "s3 = pd.read_csv(\"Data/Transcripts/MFs3CSV.csv\")\n",
    "s5 = pd.read_csv(\"Data/Transcripts/MFs5CSV.csv\")\n",
    "seasons = [s1, s2, s3, s5]"
   ]
  },
  {
   "cell_type": "code",
   "execution_count": 52,
   "id": "9a5c695e",
   "metadata": {},
   "outputs": [
    {
     "data": {
      "text/html": [
       "<div>\n",
       "<style scoped>\n",
       "    .dataframe tbody tr th:only-of-type {\n",
       "        vertical-align: middle;\n",
       "    }\n",
       "\n",
       "    .dataframe tbody tr th {\n",
       "        vertical-align: top;\n",
       "    }\n",
       "\n",
       "    .dataframe thead th {\n",
       "        text-align: right;\n",
       "    }\n",
       "</style>\n",
       "<table border=\"1\" class=\"dataframe\">\n",
       "  <thead>\n",
       "    <tr style=\"text-align: right;\">\n",
       "      <th></th>\n",
       "      <th>Name</th>\n",
       "      <th>0</th>\n",
       "      <th>1</th>\n",
       "      <th>2</th>\n",
       "      <th>3</th>\n",
       "      <th>4</th>\n",
       "      <th>5</th>\n",
       "      <th>6</th>\n",
       "      <th>7</th>\n",
       "      <th>8</th>\n",
       "      <th>...</th>\n",
       "      <th>1135</th>\n",
       "      <th>1136</th>\n",
       "      <th>1137</th>\n",
       "      <th>1138</th>\n",
       "      <th>1139</th>\n",
       "      <th>1140</th>\n",
       "      <th>1141</th>\n",
       "      <th>1142</th>\n",
       "      <th>1143</th>\n",
       "      <th>1144</th>\n",
       "    </tr>\n",
       "  </thead>\n",
       "  <tbody>\n",
       "    <tr>\n",
       "      <th>0</th>\n",
       "      <td>Phil</td>\n",
       "      <td>Phil : Yeah, just a sec.</td>\n",
       "      <td>Phil : That is so,..</td>\n",
       "      <td>Phil : Kids, get down here!</td>\n",
       "      <td>Phil : Sorry? Oh yeah, that looks really cute ...</td>\n",
       "      <td>Phil : I got it. Where's the baby oil?</td>\n",
       "      <td>Phil : Our job.</td>\n",
       "      <td>Phil : Buddy, why do you keep getting stuck li...</td>\n",
       "      <td>Phil : There! Be free, Excalibur!</td>\n",
       "      <td>Phil : Easy. Easy.</td>\n",
       "      <td>...</td>\n",
       "      <td>Phil : Gloria.</td>\n",
       "      <td>Phil : No. No.</td>\n",
       "      <td>Phil : You saw that, too?!</td>\n",
       "      <td>Phil : I-I got this, baby.</td>\n",
       "      <td>Phil : Kill me now.</td>\n",
       "      <td>Phil : Don't know how... I got so lucky.</td>\n",
       "      <td>Phil : I love you.</td>\n",
       "      <td>Phil : Yeah.</td>\n",
       "      <td>Phil : No. No.</td>\n",
       "      <td>Phil : Honey!  Modern Family Season 1x24 page 7</td>\n",
       "    </tr>\n",
       "    <tr>\n",
       "      <th>1</th>\n",
       "      <td>Claire</td>\n",
       "      <td>Claire : Kids, breakfast! Kids? Phil, would yo...</td>\n",
       "      <td>Claire : Kids!</td>\n",
       "      <td>Claire : Okay...</td>\n",
       "      <td>Claire : Alright, That's not gonna happen, and...</td>\n",
       "      <td>Claire : Honey, do you have anything to say to...</td>\n",
       "      <td>Claire : No, it's way to short, people know yo...</td>\n",
       "      <td>Claire : It's on our bedside tip... I Don't kn...</td>\n",
       "      <td>Claire : I... was out of control growing up, t...</td>\n",
       "      <td>Claire : Right... I've done our job.</td>\n",
       "      <td>...</td>\n",
       "      <td>NaN</td>\n",
       "      <td>NaN</td>\n",
       "      <td>NaN</td>\n",
       "      <td>NaN</td>\n",
       "      <td>NaN</td>\n",
       "      <td>NaN</td>\n",
       "      <td>NaN</td>\n",
       "      <td>NaN</td>\n",
       "      <td>NaN</td>\n",
       "      <td>NaN</td>\n",
       "    </tr>\n",
       "    <tr>\n",
       "      <th>2</th>\n",
       "      <td>Haley</td>\n",
       "      <td>Haley : Why are you guys yelling at us, when w...</td>\n",
       "      <td>Haley : What's Wrong with it?</td>\n",
       "      <td>Haley : Thanks!</td>\n",
       "      <td>Haley : I'm having a friend over today.</td>\n",
       "      <td>Haley : You don't know him.</td>\n",
       "      <td>Haley : Shut up!</td>\n",
       "      <td>Haley : His name is Dylan ... You know, I migh...</td>\n",
       "      <td>Haley : Don't answer it, I'll get it!</td>\n",
       "      <td>Haley : Hey, come on, let's go.</td>\n",
       "      <td>...</td>\n",
       "      <td>NaN</td>\n",
       "      <td>NaN</td>\n",
       "      <td>NaN</td>\n",
       "      <td>NaN</td>\n",
       "      <td>NaN</td>\n",
       "      <td>NaN</td>\n",
       "      <td>NaN</td>\n",
       "      <td>NaN</td>\n",
       "      <td>NaN</td>\n",
       "      <td>NaN</td>\n",
       "    </tr>\n",
       "    <tr>\n",
       "      <th>3</th>\n",
       "      <td>Alex</td>\n",
       "      <td>Alex : Luke got his head stuck in the banister...</td>\n",
       "      <td>Alex : I'm just gonna say it... he needs to be...</td>\n",
       "      <td>Alex : You don't even...</td>\n",
       "      <td>Alex : And do what?</td>\n",
       "      <td>Alex : MOM! DAD!</td>\n",
       "      <td>Alex : Luke just shot me!</td>\n",
       "      <td>Alex : No, the little bitch shot me!</td>\n",
       "      <td>Alex : What's more important here dad?</td>\n",
       "      <td>Alex : What about three?</td>\n",
       "      <td>...</td>\n",
       "      <td>NaN</td>\n",
       "      <td>NaN</td>\n",
       "      <td>NaN</td>\n",
       "      <td>NaN</td>\n",
       "      <td>NaN</td>\n",
       "      <td>NaN</td>\n",
       "      <td>NaN</td>\n",
       "      <td>NaN</td>\n",
       "      <td>NaN</td>\n",
       "      <td>NaN</td>\n",
       "    </tr>\n",
       "    <tr>\n",
       "      <th>4</th>\n",
       "      <td>Luke</td>\n",
       "      <td>Luke : I thought I could get out this time.</td>\n",
       "      <td>Luke : Oh, a boy! You gonna kiss him?</td>\n",
       "      <td>Luke : I didn't mean to!</td>\n",
       "      <td>Luke : They're only plastic bb's! It was an ac...</td>\n",
       "      <td>Luke : I'm so sorry!</td>\n",
       "      <td>Luke : Oh, come on!</td>\n",
       "      <td>Luke : Nothing.</td>\n",
       "      <td>Luke : One ... Six.</td>\n",
       "      <td>Luke : You're to close, it's gonna hurt.</td>\n",
       "      <td>...</td>\n",
       "      <td>NaN</td>\n",
       "      <td>NaN</td>\n",
       "      <td>NaN</td>\n",
       "      <td>NaN</td>\n",
       "      <td>NaN</td>\n",
       "      <td>NaN</td>\n",
       "      <td>NaN</td>\n",
       "      <td>NaN</td>\n",
       "      <td>NaN</td>\n",
       "      <td>NaN</td>\n",
       "    </tr>\n",
       "    <tr>\n",
       "      <th>5</th>\n",
       "      <td>Gloria</td>\n",
       "      <td>Gloria : Bravo Manny! Kick it! Kick it! Manny ...</td>\n",
       "      <td>Gloria : We're, very different. He's from the ...</td>\n",
       "      <td>Gloria : Yes, the murders.</td>\n",
       "      <td>Gloria : Manny, stop him! Stop him! Mom : Come...</td>\n",
       "      <td>Gloria : You wanna take him out? How about I t...</td>\n",
       "      <td>Gloria : Why don't you worry about your son! H...</td>\n",
       "      <td>Gloria : Hi, I'm Gloria Pritchett... Manny's m...</td>\n",
       "      <td>Gloria : No, you're not quitting. You would ha...</td>\n",
       "      <td>Gloria : If someone says something about my fa...</td>\n",
       "      <td>...</td>\n",
       "      <td>NaN</td>\n",
       "      <td>NaN</td>\n",
       "      <td>NaN</td>\n",
       "      <td>NaN</td>\n",
       "      <td>NaN</td>\n",
       "      <td>NaN</td>\n",
       "      <td>NaN</td>\n",
       "      <td>NaN</td>\n",
       "      <td>NaN</td>\n",
       "      <td>NaN</td>\n",
       "    </tr>\n",
       "    <tr>\n",
       "      <th>6</th>\n",
       "      <td>Jay</td>\n",
       "      <td>Jay : Gloria, there Owen's six, Let's take it ...</td>\n",
       "      <td>Jay : Murders.</td>\n",
       "      <td>Jay : Honey, honey...</td>\n",
       "      <td>Jay : Her dad? Uh, no, no, that's funny. Actua...</td>\n",
       "      <td>Jay : You know Gloria, that blowup with that o...</td>\n",
       "      <td>Jay : I'm just ... saying you could take it do...</td>\n",
       "      <td>Jay : You don't have to be so emotional all th...</td>\n",
       "      <td>Jay : Oh, for God's sake.</td>\n",
       "      <td>Jay : Hey! Watch it!</td>\n",
       "      <td>...</td>\n",
       "      <td>NaN</td>\n",
       "      <td>NaN</td>\n",
       "      <td>NaN</td>\n",
       "      <td>NaN</td>\n",
       "      <td>NaN</td>\n",
       "      <td>NaN</td>\n",
       "      <td>NaN</td>\n",
       "      <td>NaN</td>\n",
       "      <td>NaN</td>\n",
       "      <td>NaN</td>\n",
       "    </tr>\n",
       "    <tr>\n",
       "      <th>7</th>\n",
       "      <td>Manny</td>\n",
       "      <td>Manny : I'm quitting soccer, it is a game for ...</td>\n",
       "      <td>Manny : She is not a girl, She is a woman.</td>\n",
       "      <td>Manny : I wanna tell Brenda Feldman I love her.</td>\n",
       "      <td>Manny : Oh, it's okay for you to take an older...</td>\n",
       "      <td>Manny : I want to go to the mall where she wor...</td>\n",
       "      <td>Manny : Stop the car!</td>\n",
       "      <td>Manny : Brenda Feldman.</td>\n",
       "      <td>Manny : A poem I’ve written for Brenda Feldman.</td>\n",
       "      <td>Manny : I put my thoughts into words, and now ...</td>\n",
       "      <td>...</td>\n",
       "      <td>NaN</td>\n",
       "      <td>NaN</td>\n",
       "      <td>NaN</td>\n",
       "      <td>NaN</td>\n",
       "      <td>NaN</td>\n",
       "      <td>NaN</td>\n",
       "      <td>NaN</td>\n",
       "      <td>NaN</td>\n",
       "      <td>NaN</td>\n",
       "      <td>NaN</td>\n",
       "    </tr>\n",
       "    <tr>\n",
       "      <th>8</th>\n",
       "      <td>Cam</td>\n",
       "      <td>Cameron : Sorry, sorry, sorry, Daddy needed sn...</td>\n",
       "      <td>Cameron : Then we figured, they are already me...</td>\n",
       "      <td>Cameron : You are not giving a speech ... you ...</td>\n",
       "      <td>Cameron : Mitchell!</td>\n",
       "      <td>Cameron : Mitchell!!</td>\n",
       "      <td>Cameron : She's got the cream puffs.</td>\n",
       "      <td>Cameron : We would like to pay for everyone's ...</td>\n",
       "      <td>Cameron : Oh, stop worrying!</td>\n",
       "      <td>Cameron : I guess that's possible.</td>\n",
       "      <td>...</td>\n",
       "      <td>NaN</td>\n",
       "      <td>NaN</td>\n",
       "      <td>NaN</td>\n",
       "      <td>NaN</td>\n",
       "      <td>NaN</td>\n",
       "      <td>NaN</td>\n",
       "      <td>NaN</td>\n",
       "      <td>NaN</td>\n",
       "      <td>NaN</td>\n",
       "      <td>NaN</td>\n",
       "    </tr>\n",
       "    <tr>\n",
       "      <th>9</th>\n",
       "      <td>Mitch</td>\n",
       "      <td>Mitchell : Who's the good girl? Who's that?</td>\n",
       "      <td>Mitchell : Oh, thank you!</td>\n",
       "      <td>Mitchell : Hello. Hi, hi. We've just adopted h...</td>\n",
       "      <td>Mitchell : We have been together for... five, ...</td>\n",
       "      <td>Mitchell : You saw that right? Everybody fondl...</td>\n",
       "      <td>Mitchell : You're right, it's okay, I'm sorry.</td>\n",
       "      <td>Mitchell : Okay, excuse me. Excuse me, but thi...</td>\n",
       "      <td>Mitchell : ... creed or gender and shame on yo...</td>\n",
       "      <td>Mitchell : What?</td>\n",
       "      <td>...</td>\n",
       "      <td>NaN</td>\n",
       "      <td>NaN</td>\n",
       "      <td>NaN</td>\n",
       "      <td>NaN</td>\n",
       "      <td>NaN</td>\n",
       "      <td>NaN</td>\n",
       "      <td>NaN</td>\n",
       "      <td>NaN</td>\n",
       "      <td>NaN</td>\n",
       "      <td>NaN</td>\n",
       "    </tr>\n",
       "    <tr>\n",
       "      <th>10</th>\n",
       "      <td>Lily</td>\n",
       "      <td>Lily : Mommy!</td>\n",
       "      <td>Lily : Mommy!</td>\n",
       "      <td>NaN</td>\n",
       "      <td>NaN</td>\n",
       "      <td>NaN</td>\n",
       "      <td>NaN</td>\n",
       "      <td>NaN</td>\n",
       "      <td>NaN</td>\n",
       "      <td>NaN</td>\n",
       "      <td>...</td>\n",
       "      <td>NaN</td>\n",
       "      <td>NaN</td>\n",
       "      <td>NaN</td>\n",
       "      <td>NaN</td>\n",
       "      <td>NaN</td>\n",
       "      <td>NaN</td>\n",
       "      <td>NaN</td>\n",
       "      <td>NaN</td>\n",
       "      <td>NaN</td>\n",
       "      <td>NaN</td>\n",
       "    </tr>\n",
       "  </tbody>\n",
       "</table>\n",
       "<p>11 rows × 1146 columns</p>\n",
       "</div>"
      ],
      "text/plain": [
       "      Name                                                  0  \\\n",
       "0     Phil                           Phil : Yeah, just a sec.   \n",
       "1   Claire  Claire : Kids, breakfast! Kids? Phil, would yo...   \n",
       "2    Haley  Haley : Why are you guys yelling at us, when w...   \n",
       "3     Alex  Alex : Luke got his head stuck in the banister...   \n",
       "4     Luke        Luke : I thought I could get out this time.   \n",
       "5   Gloria  Gloria : Bravo Manny! Kick it! Kick it! Manny ...   \n",
       "6      Jay  Jay : Gloria, there Owen's six, Let's take it ...   \n",
       "7    Manny  Manny : I'm quitting soccer, it is a game for ...   \n",
       "8      Cam  Cameron : Sorry, sorry, sorry, Daddy needed sn...   \n",
       "9    Mitch        Mitchell : Who's the good girl? Who's that?   \n",
       "10    Lily                                      Lily : Mommy!   \n",
       "\n",
       "                                                    1  \\\n",
       "0                                Phil : That is so,..   \n",
       "1                                      Claire : Kids!   \n",
       "2                       Haley : What's Wrong with it?   \n",
       "3   Alex : I'm just gonna say it... he needs to be...   \n",
       "4               Luke : Oh, a boy! You gonna kiss him?   \n",
       "5   Gloria : We're, very different. He's from the ...   \n",
       "6                                      Jay : Murders.   \n",
       "7          Manny : She is not a girl, She is a woman.   \n",
       "8   Cameron : Then we figured, they are already me...   \n",
       "9                           Mitchell : Oh, thank you!   \n",
       "10                                      Lily : Mommy!   \n",
       "\n",
       "                                                    2  \\\n",
       "0                         Phil : Kids, get down here!   \n",
       "1                                    Claire : Okay...   \n",
       "2                                     Haley : Thanks!   \n",
       "3                            Alex : You don't even...   \n",
       "4                            Luke : I didn't mean to!   \n",
       "5                          Gloria : Yes, the murders.   \n",
       "6                               Jay : Honey, honey...   \n",
       "7     Manny : I wanna tell Brenda Feldman I love her.   \n",
       "8   Cameron : You are not giving a speech ... you ...   \n",
       "9   Mitchell : Hello. Hi, hi. We've just adopted h...   \n",
       "10                                                NaN   \n",
       "\n",
       "                                                    3  \\\n",
       "0   Phil : Sorry? Oh yeah, that looks really cute ...   \n",
       "1   Claire : Alright, That's not gonna happen, and...   \n",
       "2             Haley : I'm having a friend over today.   \n",
       "3                                 Alex : And do what?   \n",
       "4   Luke : They're only plastic bb's! It was an ac...   \n",
       "5   Gloria : Manny, stop him! Stop him! Mom : Come...   \n",
       "6   Jay : Her dad? Uh, no, no, that's funny. Actua...   \n",
       "7   Manny : Oh, it's okay for you to take an older...   \n",
       "8                                 Cameron : Mitchell!   \n",
       "9   Mitchell : We have been together for... five, ...   \n",
       "10                                                NaN   \n",
       "\n",
       "                                                    4  \\\n",
       "0              Phil : I got it. Where's the baby oil?   \n",
       "1   Claire : Honey, do you have anything to say to...   \n",
       "2                         Haley : You don't know him.   \n",
       "3                                    Alex : MOM! DAD!   \n",
       "4                                Luke : I'm so sorry!   \n",
       "5   Gloria : You wanna take him out? How about I t...   \n",
       "6   Jay : You know Gloria, that blowup with that o...   \n",
       "7   Manny : I want to go to the mall where she wor...   \n",
       "8                                Cameron : Mitchell!!   \n",
       "9   Mitchell : You saw that right? Everybody fondl...   \n",
       "10                                                NaN   \n",
       "\n",
       "                                                    5  \\\n",
       "0                                     Phil : Our job.   \n",
       "1   Claire : No, it's way to short, people know yo...   \n",
       "2                                    Haley : Shut up!   \n",
       "3                           Alex : Luke just shot me!   \n",
       "4                                 Luke : Oh, come on!   \n",
       "5   Gloria : Why don't you worry about your son! H...   \n",
       "6   Jay : I'm just ... saying you could take it do...   \n",
       "7                               Manny : Stop the car!   \n",
       "8                Cameron : She's got the cream puffs.   \n",
       "9      Mitchell : You're right, it's okay, I'm sorry.   \n",
       "10                                                NaN   \n",
       "\n",
       "                                                    6  \\\n",
       "0   Phil : Buddy, why do you keep getting stuck li...   \n",
       "1   Claire : It's on our bedside tip... I Don't kn...   \n",
       "2   Haley : His name is Dylan ... You know, I migh...   \n",
       "3                Alex : No, the little bitch shot me!   \n",
       "4                                     Luke : Nothing.   \n",
       "5   Gloria : Hi, I'm Gloria Pritchett... Manny's m...   \n",
       "6   Jay : You don't have to be so emotional all th...   \n",
       "7                             Manny : Brenda Feldman.   \n",
       "8   Cameron : We would like to pay for everyone's ...   \n",
       "9   Mitchell : Okay, excuse me. Excuse me, but thi...   \n",
       "10                                                NaN   \n",
       "\n",
       "                                                    7  \\\n",
       "0                   Phil : There! Be free, Excalibur!   \n",
       "1   Claire : I... was out of control growing up, t...   \n",
       "2               Haley : Don't answer it, I'll get it!   \n",
       "3              Alex : What's more important here dad?   \n",
       "4                                 Luke : One ... Six.   \n",
       "5   Gloria : No, you're not quitting. You would ha...   \n",
       "6                           Jay : Oh, for God's sake.   \n",
       "7     Manny : A poem I’ve written for Brenda Feldman.   \n",
       "8                        Cameron : Oh, stop worrying!   \n",
       "9   Mitchell : ... creed or gender and shame on yo...   \n",
       "10                                                NaN   \n",
       "\n",
       "                                                    8  ...            1135  \\\n",
       "0                                  Phil : Easy. Easy.  ...  Phil : Gloria.   \n",
       "1                Claire : Right... I've done our job.  ...             NaN   \n",
       "2                     Haley : Hey, come on, let's go.  ...             NaN   \n",
       "3                            Alex : What about three?  ...             NaN   \n",
       "4            Luke : You're to close, it's gonna hurt.  ...             NaN   \n",
       "5   Gloria : If someone says something about my fa...  ...             NaN   \n",
       "6                                Jay : Hey! Watch it!  ...             NaN   \n",
       "7   Manny : I put my thoughts into words, and now ...  ...             NaN   \n",
       "8                  Cameron : I guess that's possible.  ...             NaN   \n",
       "9                                    Mitchell : What?  ...             NaN   \n",
       "10                                                NaN  ...             NaN   \n",
       "\n",
       "              1136                        1137                        1138  \\\n",
       "0   Phil : No. No.  Phil : You saw that, too?!  Phil : I-I got this, baby.   \n",
       "1              NaN                         NaN                         NaN   \n",
       "2              NaN                         NaN                         NaN   \n",
       "3              NaN                         NaN                         NaN   \n",
       "4              NaN                         NaN                         NaN   \n",
       "5              NaN                         NaN                         NaN   \n",
       "6              NaN                         NaN                         NaN   \n",
       "7              NaN                         NaN                         NaN   \n",
       "8              NaN                         NaN                         NaN   \n",
       "9              NaN                         NaN                         NaN   \n",
       "10             NaN                         NaN                         NaN   \n",
       "\n",
       "                   1139                                      1140  \\\n",
       "0   Phil : Kill me now.  Phil : Don't know how... I got so lucky.   \n",
       "1                   NaN                                       NaN   \n",
       "2                   NaN                                       NaN   \n",
       "3                   NaN                                       NaN   \n",
       "4                   NaN                                       NaN   \n",
       "5                   NaN                                       NaN   \n",
       "6                   NaN                                       NaN   \n",
       "7                   NaN                                       NaN   \n",
       "8                   NaN                                       NaN   \n",
       "9                   NaN                                       NaN   \n",
       "10                  NaN                                       NaN   \n",
       "\n",
       "                  1141          1142            1143  \\\n",
       "0   Phil : I love you.  Phil : Yeah.  Phil : No. No.   \n",
       "1                  NaN           NaN             NaN   \n",
       "2                  NaN           NaN             NaN   \n",
       "3                  NaN           NaN             NaN   \n",
       "4                  NaN           NaN             NaN   \n",
       "5                  NaN           NaN             NaN   \n",
       "6                  NaN           NaN             NaN   \n",
       "7                  NaN           NaN             NaN   \n",
       "8                  NaN           NaN             NaN   \n",
       "9                  NaN           NaN             NaN   \n",
       "10                 NaN           NaN             NaN   \n",
       "\n",
       "                                                1144  \n",
       "0   Phil : Honey!  Modern Family Season 1x24 page 7   \n",
       "1                                                NaN  \n",
       "2                                                NaN  \n",
       "3                                                NaN  \n",
       "4                                                NaN  \n",
       "5                                                NaN  \n",
       "6                                                NaN  \n",
       "7                                                NaN  \n",
       "8                                                NaN  \n",
       "9                                                NaN  \n",
       "10                                               NaN  \n",
       "\n",
       "[11 rows x 1146 columns]"
      ]
     },
     "execution_count": 52,
     "metadata": {},
     "output_type": "execute_result"
    }
   ],
   "source": [
    "s1"
   ]
  },
  {
   "cell_type": "code",
   "execution_count": 53,
   "id": "b92e1d27",
   "metadata": {},
   "outputs": [],
   "source": [
    "phil = []\n",
    "claire = []\n",
    "haley = []\n",
    "alex = []\n",
    "luke = []\n",
    "gloria = []\n",
    "jay = []\n",
    "manny = []\n",
    "cam = []\n",
    "mitch = []\n",
    "lily = []\n",
    "chars = [phil, claire, haley, alex, luke, gloria, jay, manny, cam, mitch, lily]"
   ]
  },
  {
   "cell_type": "code",
   "execution_count": 54,
   "id": "3b4770e8",
   "metadata": {},
   "outputs": [],
   "source": [
    "#Returns an array structured such as \n",
    "#array[Character][Season]\n",
    "\n",
    "def Char_Sent(Characters, Data):\n",
    "    row = 0\n",
    "    full_p = []\n",
    "    for char in Characters:\n",
    "        predictions = []\n",
    "        for season in Data:\n",
    "            predict = forestpipe.predict(season.iloc[row].dropna())\n",
    "            predictions.append(predict)\n",
    "        full_p.append(predictions)\n",
    "        row = row+1\n",
    "    return full_p"
   ]
  },
  {
   "cell_type": "code",
   "execution_count": 55,
   "id": "cb15b338",
   "metadata": {},
   "outputs": [],
   "source": [
    "chars = Char_Sent(chars, seasons)"
   ]
  },
  {
   "cell_type": "code",
   "execution_count": 56,
   "id": "2a9d3ab2",
   "metadata": {},
   "outputs": [],
   "source": [
    "#Returns an array structued as \n",
    "#array[Season][Character]\n",
    "def Season_Sent(Data):\n",
    "    seasonal = []\n",
    "    for season in Data:\n",
    "        predictions = []\n",
    "        for x in range(11):\n",
    "            predict = forestpipe.predict(season.iloc[x][1:].dropna())\n",
    "            predictions.append(predict)\n",
    "        seasonal.append(predictions)\n",
    "    return seasonal"
   ]
  },
  {
   "cell_type": "code",
   "execution_count": 57,
   "id": "e790ca62",
   "metadata": {},
   "outputs": [],
   "source": [
    "season_sentiments = Season_Sent(seasons)"
   ]
  },
  {
   "cell_type": "code",
   "execution_count": 58,
   "id": "3bb5d933",
   "metadata": {},
   "outputs": [],
   "source": [
    "def PositiveRatio(character):\n",
    "    pos = 0.0 \n",
    "    neg = 0.0\n",
    "    for season in character:\n",
    "        for sent in season:\n",
    "            if sent == 0:\n",
    "                neg = neg + 1.0\n",
    "            else:\n",
    "                pos = pos + 1.0\n",
    "    return pos/(neg+pos)"
   ]
  },
  {
   "cell_type": "code",
   "execution_count": 59,
   "id": "3ab88d9c",
   "metadata": {},
   "outputs": [],
   "source": [
    "def refresh_seed():\n",
    "    OT = df_sent_train['OriginalTweet'] # the features we want to analyze\n",
    "    pre_sent = df_sent_train['Sentiment'] # the labels, or answers, we want to test against\n",
    "\n",
    "    Sent = []\n",
    "    neg = 0\n",
    "    pos = 0\n",
    "    for rank in pre_sent:    \n",
    "        if rank == 0 or rank == 2:\n",
    "            neg = neg +1\n",
    "            if(neg <= pos*1.5):\n",
    "                Sent.append(0)\n",
    "        else: \n",
    "            Sent.append(1)\n",
    "            pos = pos +1\n",
    "    c = list(zip(OT,Sent))\n",
    "    random.shuffle(c)\n",
    "    OT, Sent = zip(*c)    \n",
    "    OT_train, OT_val, Sent_train, Sent_val = train_test_split(OT, Sent, test_size=0.15)\n",
    "    clf = RandomForestClassifier(bootstrap = False, \n",
    "                            criterion = 'entropy',\n",
    "                            n_estimators = 100, )\n",
    "    forestpipe = Pipeline([('bow',CountVectorizer()),\n",
    "                     ('clf',clf)])\n",
    "    forestpipe.fit(OT_train[:20000],Sent_train[:20000])"
   ]
  },
  {
   "cell_type": "code",
   "execution_count": 60,
   "id": "d844b9e9",
   "metadata": {},
   "outputs": [],
   "source": [
    "def full_ratio(data, loops):\n",
    "    ratios = []\n",
    "    for i in range(11):\n",
    "        ratios.append([])\n",
    "        \n",
    "    for i in range(loops):\n",
    "        c_ratios = []\n",
    "        refresh_seed()\n",
    "        for j in range(11):\n",
    "            predictions = []\n",
    "            for season in data:\n",
    "                predict = forestpipe.predict(season.iloc[j].dropna())\n",
    "                predictions.append(predict)\n",
    "            c_ratios.append(PositiveRatio(predictions))\n",
    "            l = len(c_ratios)\n",
    "            av = sum(c_ratios)/l\n",
    "            ratios[j].append(av)\n",
    "            \n",
    "    for i in range(11):\n",
    "        ratios[i] = sum(ratios[i])/loops\n",
    "    return ratios"
   ]
  },
  {
   "cell_type": "code",
   "execution_count": 75,
   "id": "bce2683e",
   "metadata": {},
   "outputs": [],
   "source": [
    "def seasonal_ratio(data, loop):\n",
    "    ratios = []\n",
    "    for season in data:\n",
    "        ratios.append([])\n",
    "    \n",
    "    for i in range(loops):\n",
    "        s_ratios = []\n",
    "        refresh_seed()\n",
    "        j = 0\n",
    "        for season in data:\n",
    "            predictions = []\n",
    "            for x in range(11):\n",
    "                predict = forestpipe.predict(season.iloc[x][1:].dropna())\n",
    "                predictions.append(predict)\n",
    "            s_ratios.append(PositiveRatio(predictions))\n",
    "            l = len(s_ratios)\n",
    "            av = sum(s_ratios)/l\n",
    "            ratios[j].append(av)\n",
    "            j = j +1\n",
    "    for i in range(4):\n",
    "        ratios[i] = sum(ratios[i])/loops\n",
    "    \n",
    "    return ratios"
   ]
  },
  {
   "cell_type": "code",
   "execution_count": 61,
   "id": "c7402680",
   "metadata": {},
   "outputs": [
    {
     "data": {
      "text/plain": [
       "0.6366486178398404"
      ]
     },
     "execution_count": 61,
     "metadata": {},
     "output_type": "execute_result"
    }
   ],
   "source": [
    "PositiveRatio(chars[0])"
   ]
  },
  {
   "cell_type": "code",
   "execution_count": 62,
   "id": "c440f47b",
   "metadata": {},
   "outputs": [
    {
     "data": {
      "text/plain": [
       "0.6322280076733352"
      ]
     },
     "execution_count": 62,
     "metadata": {},
     "output_type": "execute_result"
    }
   ],
   "source": [
    "PositiveRatio(chars[1])"
   ]
  },
  {
   "cell_type": "code",
   "execution_count": 63,
   "id": "56e610b8",
   "metadata": {},
   "outputs": [
    {
     "data": {
      "text/plain": [
       "0.5770850884582982"
      ]
     },
     "execution_count": 63,
     "metadata": {},
     "output_type": "execute_result"
    }
   ],
   "source": [
    "PositiveRatio(chars[2])"
   ]
  },
  {
   "cell_type": "code",
   "execution_count": 64,
   "id": "2b73545f",
   "metadata": {},
   "outputs": [
    {
     "data": {
      "text/plain": [
       "0.5636942675159236"
      ]
     },
     "execution_count": 64,
     "metadata": {},
     "output_type": "execute_result"
    }
   ],
   "source": [
    "PositiveRatio(chars[3])"
   ]
  },
  {
   "cell_type": "code",
   "execution_count": 65,
   "id": "7b122aa1",
   "metadata": {},
   "outputs": [
    {
     "data": {
      "text/plain": [
       "0.5955510616784631"
      ]
     },
     "execution_count": 65,
     "metadata": {},
     "output_type": "execute_result"
    }
   ],
   "source": [
    "PositiveRatio(chars[4])"
   ]
  },
  {
   "cell_type": "code",
   "execution_count": 66,
   "id": "d15a4337",
   "metadata": {},
   "outputs": [
    {
     "data": {
      "text/plain": [
       "0.6103960396039604"
      ]
     },
     "execution_count": 66,
     "metadata": {},
     "output_type": "execute_result"
    }
   ],
   "source": [
    "PositiveRatio(chars[5])"
   ]
  },
  {
   "cell_type": "code",
   "execution_count": 67,
   "id": "f337273c",
   "metadata": {},
   "outputs": [
    {
     "data": {
      "text/plain": [
       "0.5619047619047619"
      ]
     },
     "execution_count": 67,
     "metadata": {},
     "output_type": "execute_result"
    }
   ],
   "source": [
    "PositiveRatio(chars[6])"
   ]
  },
  {
   "cell_type": "code",
   "execution_count": 68,
   "id": "4ef8977c",
   "metadata": {},
   "outputs": [
    {
     "data": {
      "text/plain": [
       "0.5897674418604651"
      ]
     },
     "execution_count": 68,
     "metadata": {},
     "output_type": "execute_result"
    }
   ],
   "source": [
    "PositiveRatio(chars[7])"
   ]
  },
  {
   "cell_type": "code",
   "execution_count": 69,
   "id": "0d65b043",
   "metadata": {},
   "outputs": [
    {
     "data": {
      "text/plain": [
       "0.6257896692679301"
      ]
     },
     "execution_count": 69,
     "metadata": {},
     "output_type": "execute_result"
    }
   ],
   "source": [
    "PositiveRatio(chars[8])"
   ]
  },
  {
   "cell_type": "code",
   "execution_count": 70,
   "id": "e6ae4caa",
   "metadata": {},
   "outputs": [
    {
     "data": {
      "text/plain": [
       "0.590815627141878"
      ]
     },
     "execution_count": 70,
     "metadata": {},
     "output_type": "execute_result"
    }
   ],
   "source": [
    "PositiveRatio(chars[9])"
   ]
  },
  {
   "cell_type": "code",
   "execution_count": 71,
   "id": "a1ad9bd0",
   "metadata": {},
   "outputs": [
    {
     "data": {
      "text/plain": [
       "0.6083916083916084"
      ]
     },
     "execution_count": 71,
     "metadata": {},
     "output_type": "execute_result"
    }
   ],
   "source": [
    "PositiveRatio(chars[10])"
   ]
  },
  {
   "cell_type": "code",
   "execution_count": null,
   "id": "eac0b064",
   "metadata": {},
   "outputs": [],
   "source": [
    "character_ratios = full_ratio(seasons, 10)"
   ]
  },
  {
   "cell_type": "code",
   "execution_count": null,
   "id": "85aff5fc",
   "metadata": {},
   "outputs": [],
   "source": [
    "season_ratios = full_ratio(seasons,10)"
   ]
  },
  {
   "cell_type": "code",
   "execution_count": 77,
   "id": "56ce0c0b",
   "metadata": {},
   "outputs": [
    {
     "data": {
      "text/plain": [
       "[0.6366486178398405,\n",
       " 0.6344383127565879,\n",
       " 0.6153205713238246,\n",
       " 0.6024139953718494,\n",
       " 0.6010414086331721,\n",
       " 0.60260051379497,\n",
       " 0.5967868349535117,\n",
       " 0.5959094108168809,\n",
       " 0.5992294395336641,\n",
       " 0.5983880582944856,\n",
       " 0.5992974719396785]"
      ]
     },
     "execution_count": 77,
     "metadata": {},
     "output_type": "execute_result"
    }
   ],
   "source": [
    "character_ratios"
   ]
  },
  {
   "cell_type": "code",
   "execution_count": null,
   "id": "2878e233",
   "metadata": {},
   "outputs": [],
   "source": []
  }
 ],
 "metadata": {
  "kernelspec": {
   "display_name": "Python 3",
   "language": "python",
   "name": "python3"
  },
  "language_info": {
   "codemirror_mode": {
    "name": "ipython",
    "version": 3
   },
   "file_extension": ".py",
   "mimetype": "text/x-python",
   "name": "python",
   "nbconvert_exporter": "python",
   "pygments_lexer": "ipython3",
   "version": "3.8.8"
  }
 },
 "nbformat": 4,
 "nbformat_minor": 5
}
