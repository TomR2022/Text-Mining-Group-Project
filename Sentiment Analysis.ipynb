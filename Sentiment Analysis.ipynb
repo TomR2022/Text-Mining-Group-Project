{
 "cells": [
  {
   "cell_type": "code",
   "execution_count": 1,
   "id": "ed93293c",
   "metadata": {},
   "outputs": [],
   "source": [
    "import pandas as pd"
   ]
  },
  {
   "cell_type": "code",
   "execution_count": 2,
   "id": "eea31447",
   "metadata": {},
   "outputs": [],
   "source": [
    "import opendatasets as od"
   ]
  },
  {
   "cell_type": "code",
   "execution_count": 3,
   "id": "d7cde196",
   "metadata": {},
   "outputs": [
    {
     "name": "stdout",
     "output_type": "stream",
     "text": [
      "Skipping, found downloaded files in \".\\sentiment140\" (use force=True to force download)\n"
     ]
    }
   ],
   "source": [
    "od.download(\"https://www.kaggle.com/datasets/kazanova/sentiment140\")"
   ]
  },
  {
   "cell_type": "code",
   "execution_count": 4,
   "id": "78be8d33",
   "metadata": {},
   "outputs": [],
   "source": [
    "df_sent_train = pd.read_csv(\"Data/training.1600000.processed.noemoticon.csv\").iloc[::-1]"
   ]
  },
  {
   "cell_type": "code",
   "execution_count": 5,
   "id": "cc3a7166",
   "metadata": {},
   "outputs": [
    {
     "data": {
      "text/html": [
       "<div>\n",
       "<style scoped>\n",
       "    .dataframe tbody tr th:only-of-type {\n",
       "        vertical-align: middle;\n",
       "    }\n",
       "\n",
       "    .dataframe tbody tr th {\n",
       "        vertical-align: top;\n",
       "    }\n",
       "\n",
       "    .dataframe thead th {\n",
       "        text-align: right;\n",
       "    }\n",
       "</style>\n",
       "<table border=\"1\" class=\"dataframe\">\n",
       "  <thead>\n",
       "    <tr style=\"text-align: right;\">\n",
       "      <th></th>\n",
       "      <th>Sentiment</th>\n",
       "      <th>ID</th>\n",
       "      <th>Date</th>\n",
       "      <th>QUERY</th>\n",
       "      <th>Username</th>\n",
       "      <th>OriginalTweet</th>\n",
       "    </tr>\n",
       "  </thead>\n",
       "  <tbody>\n",
       "    <tr>\n",
       "      <th>480817</th>\n",
       "      <td>4</td>\n",
       "      <td>1960158090</td>\n",
       "      <td>Fri May 29 07:30:59 PDT 2009</td>\n",
       "      <td>NO_QUERY</td>\n",
       "      <td>djbabyyu</td>\n",
       "      <td>@latinprince whats good homie!! ill be there i...</td>\n",
       "    </tr>\n",
       "    <tr>\n",
       "      <th>480816</th>\n",
       "      <td>4</td>\n",
       "      <td>1960158006</td>\n",
       "      <td>Fri May 29 07:30:59 PDT 2009</td>\n",
       "      <td>NO_QUERY</td>\n",
       "      <td>YUMMYBUM50</td>\n",
       "      <td>@Amanda_Holden Just looked on web to see if yo...</td>\n",
       "    </tr>\n",
       "    <tr>\n",
       "      <th>480815</th>\n",
       "      <td>4</td>\n",
       "      <td>1960157924</td>\n",
       "      <td>Fri May 29 07:30:58 PDT 2009</td>\n",
       "      <td>NO_QUERY</td>\n",
       "      <td>jessjohnson18</td>\n",
       "      <td>On way home blasting mcfly in the back of the ...</td>\n",
       "    </tr>\n",
       "    <tr>\n",
       "      <th>480814</th>\n",
       "      <td>4</td>\n",
       "      <td>1960157859</td>\n",
       "      <td>Fri May 29 07:30:58 PDT 2009</td>\n",
       "      <td>NO_QUERY</td>\n",
       "      <td>flattopgoo</td>\n",
       "      <td>@googoodolls omg that is hilarious.  thanks fo...</td>\n",
       "    </tr>\n",
       "    <tr>\n",
       "      <th>480813</th>\n",
       "      <td>4</td>\n",
       "      <td>1960157836</td>\n",
       "      <td>Fri May 29 07:30:58 PDT 2009</td>\n",
       "      <td>NO_QUERY</td>\n",
       "      <td>danthedormant</td>\n",
       "      <td>breakfast in bed on my day off? Excellent idea</td>\n",
       "    </tr>\n",
       "  </tbody>\n",
       "</table>\n",
       "</div>"
      ],
      "text/plain": [
       "        Sentiment          ID                          Date     QUERY  \\\n",
       "480817          4  1960158090  Fri May 29 07:30:59 PDT 2009  NO_QUERY   \n",
       "480816          4  1960158006  Fri May 29 07:30:59 PDT 2009  NO_QUERY   \n",
       "480815          4  1960157924  Fri May 29 07:30:58 PDT 2009  NO_QUERY   \n",
       "480814          4  1960157859  Fri May 29 07:30:58 PDT 2009  NO_QUERY   \n",
       "480813          4  1960157836  Fri May 29 07:30:58 PDT 2009  NO_QUERY   \n",
       "\n",
       "             Username                                      OriginalTweet  \n",
       "480817       djbabyyu  @latinprince whats good homie!! ill be there i...  \n",
       "480816     YUMMYBUM50  @Amanda_Holden Just looked on web to see if yo...  \n",
       "480815  jessjohnson18  On way home blasting mcfly in the back of the ...  \n",
       "480814     flattopgoo  @googoodolls omg that is hilarious.  thanks fo...  \n",
       "480813  danthedormant    breakfast in bed on my day off? Excellent idea   "
      ]
     },
     "execution_count": 5,
     "metadata": {},
     "output_type": "execute_result"
    }
   ],
   "source": [
    "df_sent_train.head()"
   ]
  },
  {
   "cell_type": "code",
   "execution_count": 6,
   "id": "0bcb84ad",
   "metadata": {},
   "outputs": [
    {
     "name": "stdout",
     "output_type": "stream",
     "text": [
      "['@cassiefx', 'lost', 'cause', 'girl', ' ', ';)']\n"
     ]
    }
   ],
   "source": [
    "import string\n",
    "import spacy\n",
    "from sklearn.feature_extraction.text import CountVectorizer,TfidfVectorizer\n",
    "from sklearn.base import TransformerMixin\n",
    "from sklearn.pipeline import Pipeline\n",
    "from spacy.lang.en.stop_words import STOP_WORDS\n",
    "from spacy.lang.en import English\n",
    "\n",
    "# Create our list of punctuation marks\n",
    "punctuations = string.punctuation\n",
    "\n",
    "# Create our list of stopwords\n",
    "nlp = spacy.load('en_core_web_sm')\n",
    "stop_words = spacy.lang.en.stop_words.STOP_WORDS\n",
    "\n",
    "# Load English tokenizer, tagger, parser, NER and word vectors\n",
    "parser = English()\n",
    "\n",
    "# Creating our tokenizer function\n",
    "def spacy_tokenizer(sentence):\n",
    "    # Creating our token object, which is used to create documents with linguistic annotations.\n",
    "    mytokens = parser(sentence)\n",
    "    # Lemmatizing each token and converting each token into lowercase\n",
    "    mytokens = [ word.lower_ for word in mytokens ]\n",
    "    # Removing stop words\n",
    "    mytokens = [ word for word in mytokens if word not in stop_words and word not in punctuations ]\n",
    "    # return preprocessed list of tokens\n",
    "    return mytokens\n",
    "print(spacy_tokenizer(df_sent_train['OriginalTweet'][1]))\n",
    "\n",
    "# Custom transformer using spaCy\n",
    "class predictors(TransformerMixin):\n",
    "    def transform(self, X, **transform_params):\n",
    "        # Cleaning Text\n",
    "        return [clean_text(text) for text in X]\n",
    "\n",
    "    def fit(self, X, y=None, **fit_params):\n",
    "        return self\n",
    "\n",
    "    def get_params(self, deep=True):\n",
    "        return {}\n",
    "\n",
    "# Basic function to clean the text\n",
    "def clean_text(text):\n",
    "    # Removing spaces and converting text into lowercase\n",
    "    return text.strip().lower()"
   ]
  },
  {
   "cell_type": "code",
   "execution_count": 7,
   "id": "73c6f5c1",
   "metadata": {},
   "outputs": [
    {
     "name": "stdout",
     "output_type": "stream",
     "text": [
      "248428\n",
      "232390\n",
      "408695\n",
      "408695\n"
     ]
    }
   ],
   "source": [
    "import random\n",
    "from sklearn.model_selection import train_test_split\n",
    "\n",
    "OT = df_sent_train['OriginalTweet'] # the features we want to analyze\n",
    "pre_sent = df_sent_train['Sentiment'] # the labels, or answers, we want to test against\n",
    "\n",
    "Sent = []\n",
    "neg = 0\n",
    "pos = 0\n",
    "for rank in pre_sent:    \n",
    "    if rank == 0:\n",
    "        neg = neg +1\n",
    "        if(neg <= pos*1.5):\n",
    "            Sent.append(0)\n",
    "    else: \n",
    "        Sent.append(1)\n",
    "        pos = pos +1\n",
    "\n",
    "print(pos)\n",
    "print(neg)\n",
    "c = list(zip(OT,Sent))\n",
    "random.shuffle(c)\n",
    "OT, Sent = zip(*c)\n",
    "    \n",
    "OT_train, OT_val, Sent_train, Sent_val = train_test_split(OT, Sent, test_size=0.15)\n",
    "print(len(OT_train))\n",
    "print(len(Sent_train))"
   ]
  },
  {
   "cell_type": "code",
   "execution_count": 8,
   "id": "66b60f4a",
   "metadata": {},
   "outputs": [],
   "source": [
    "#Precision, Recall and F1 are all based on if the tweet are classified \n",
    "#as \"Not Negative\" in any way\n",
    "from sklearn import metrics\n",
    "def report(method, predictions, truth):\n",
    "    print(method)\n",
    "    print(\"Accuracy:\",metrics.accuracy_score(truth, predictions))\n",
    "    print(\"Precision:\",metrics.precision_score(truth, predictions))\n",
    "    print(\"Recall:\",metrics.recall_score(truth, predictions))\n",
    "    F1 = 2*((metrics.precision_score(truth, predictions)*metrics.recall_score(truth, predictions))\n",
    "            /(metrics.precision_score(truth, predictions)+metrics.recall_score(truth, predictions)))\n",
    "    print(\"F1: \", F1)\n",
    "    return [method, metrics.accuracy_score(truth, predictions), metrics.precision_score(truth, predictions), \n",
    "            metrics.recall_score(truth, predictions), F1]"
   ]
  },
  {
   "cell_type": "code",
   "execution_count": 9,
   "id": "881731b8",
   "metadata": {},
   "outputs": [
    {
     "name": "stdout",
     "output_type": "stream",
     "text": [
      "Random Forest Classifier\n",
      "Accuracy: 0.7557367275349056\n",
      "Precision: 0.7690438486321193\n",
      "Recall: 0.7546416610850636\n",
      "F1:  0.7617746886451839\n"
     ]
    },
    {
     "data": {
      "text/plain": [
       "['Random Forest Classifier',\n",
       " 0.7557367275349056,\n",
       " 0.7690438486321193,\n",
       " 0.7546416610850636,\n",
       " 0.7617746886451839]"
      ]
     },
     "execution_count": 9,
     "metadata": {},
     "output_type": "execute_result"
    }
   ],
   "source": [
    "# your code here\n",
    "from sklearn.ensemble import RandomForestClassifier\n",
    "clf = RandomForestClassifier(bootstrap = False, \n",
    "                            criterion = 'entropy',\n",
    "                            n_estimators = 100, )\n",
    "forestpipe = Pipeline([('bow',CountVectorizer()),\n",
    "                     ('clf',clf)])\n",
    "forestpipe.fit(OT_train[:20000],Sent_train[:20000])\n",
    "predicted = forestpipe.predict(OT_val)\n",
    "report(\"Random Forest Classifier\", predicted, Sent_val)"
   ]
  },
  {
   "cell_type": "code",
   "execution_count": 10,
   "id": "59887af4",
   "metadata": {},
   "outputs": [],
   "source": [
    "s1 = pd.read_csv(\"Data/Transcripts/MFs1CSV.csv\")\n",
    "s2 = pd.read_csv(\"Data/Transcripts/MFs2CSV.csv\")\n",
    "s3 = pd.read_csv(\"Data/Transcripts/MFs3CSV.csv\")\n",
    "s5 = pd.read_csv(\"Data/Transcripts/MFs5CSV.csv\")\n",
    "seasons = [s1, s2, s3, s5]"
   ]
  },
  {
   "cell_type": "code",
   "execution_count": 11,
   "id": "9a5c695e",
   "metadata": {},
   "outputs": [
    {
     "data": {
      "text/html": [
       "<div>\n",
       "<style scoped>\n",
       "    .dataframe tbody tr th:only-of-type {\n",
       "        vertical-align: middle;\n",
       "    }\n",
       "\n",
       "    .dataframe tbody tr th {\n",
       "        vertical-align: top;\n",
       "    }\n",
       "\n",
       "    .dataframe thead th {\n",
       "        text-align: right;\n",
       "    }\n",
       "</style>\n",
       "<table border=\"1\" class=\"dataframe\">\n",
       "  <thead>\n",
       "    <tr style=\"text-align: right;\">\n",
       "      <th></th>\n",
       "      <th>Name</th>\n",
       "      <th>0</th>\n",
       "      <th>1</th>\n",
       "      <th>2</th>\n",
       "      <th>3</th>\n",
       "      <th>4</th>\n",
       "      <th>5</th>\n",
       "      <th>6</th>\n",
       "      <th>7</th>\n",
       "      <th>8</th>\n",
       "      <th>...</th>\n",
       "      <th>1135</th>\n",
       "      <th>1136</th>\n",
       "      <th>1137</th>\n",
       "      <th>1138</th>\n",
       "      <th>1139</th>\n",
       "      <th>1140</th>\n",
       "      <th>1141</th>\n",
       "      <th>1142</th>\n",
       "      <th>1143</th>\n",
       "      <th>1144</th>\n",
       "    </tr>\n",
       "  </thead>\n",
       "  <tbody>\n",
       "    <tr>\n",
       "      <th>0</th>\n",
       "      <td>Phil</td>\n",
       "      <td>Phil : Yeah, just a sec.</td>\n",
       "      <td>Phil : That is so,..</td>\n",
       "      <td>Phil : Kids, get down here!</td>\n",
       "      <td>Phil : Sorry? Oh yeah, that looks really cute ...</td>\n",
       "      <td>Phil : I got it. Where's the baby oil?</td>\n",
       "      <td>Phil : Our job.</td>\n",
       "      <td>Phil : Buddy, why do you keep getting stuck li...</td>\n",
       "      <td>Phil : There! Be free, Excalibur!</td>\n",
       "      <td>Phil : Easy. Easy.</td>\n",
       "      <td>...</td>\n",
       "      <td>Phil : Gloria.</td>\n",
       "      <td>Phil : No. No.</td>\n",
       "      <td>Phil : You saw that, too?!</td>\n",
       "      <td>Phil : I-I got this, baby.</td>\n",
       "      <td>Phil : Kill me now.</td>\n",
       "      <td>Phil : Don't know how... I got so lucky.</td>\n",
       "      <td>Phil : I love you.</td>\n",
       "      <td>Phil : Yeah.</td>\n",
       "      <td>Phil : No. No.</td>\n",
       "      <td>Phil : Honey!  Modern Family Season 1x24 page 7</td>\n",
       "    </tr>\n",
       "    <tr>\n",
       "      <th>1</th>\n",
       "      <td>Claire</td>\n",
       "      <td>Claire : Kids, breakfast! Kids? Phil, would yo...</td>\n",
       "      <td>Claire : Kids!</td>\n",
       "      <td>Claire : Okay...</td>\n",
       "      <td>Claire : Alright, That's not gonna happen, and...</td>\n",
       "      <td>Claire : Honey, do you have anything to say to...</td>\n",
       "      <td>Claire : No, it's way to short, people know yo...</td>\n",
       "      <td>Claire : It's on our bedside tip... I Don't kn...</td>\n",
       "      <td>Claire : I... was out of control growing up, t...</td>\n",
       "      <td>Claire : Right... I've done our job.</td>\n",
       "      <td>...</td>\n",
       "      <td>NaN</td>\n",
       "      <td>NaN</td>\n",
       "      <td>NaN</td>\n",
       "      <td>NaN</td>\n",
       "      <td>NaN</td>\n",
       "      <td>NaN</td>\n",
       "      <td>NaN</td>\n",
       "      <td>NaN</td>\n",
       "      <td>NaN</td>\n",
       "      <td>NaN</td>\n",
       "    </tr>\n",
       "    <tr>\n",
       "      <th>2</th>\n",
       "      <td>Haley</td>\n",
       "      <td>Haley : Why are you guys yelling at us, when w...</td>\n",
       "      <td>Haley : What's Wrong with it?</td>\n",
       "      <td>Haley : Thanks!</td>\n",
       "      <td>Haley : I'm having a friend over today.</td>\n",
       "      <td>Haley : You don't know him.</td>\n",
       "      <td>Haley : Shut up!</td>\n",
       "      <td>Haley : His name is Dylan ... You know, I migh...</td>\n",
       "      <td>Haley : Don't answer it, I'll get it!</td>\n",
       "      <td>Haley : Hey, come on, let's go.</td>\n",
       "      <td>...</td>\n",
       "      <td>NaN</td>\n",
       "      <td>NaN</td>\n",
       "      <td>NaN</td>\n",
       "      <td>NaN</td>\n",
       "      <td>NaN</td>\n",
       "      <td>NaN</td>\n",
       "      <td>NaN</td>\n",
       "      <td>NaN</td>\n",
       "      <td>NaN</td>\n",
       "      <td>NaN</td>\n",
       "    </tr>\n",
       "    <tr>\n",
       "      <th>3</th>\n",
       "      <td>Alex</td>\n",
       "      <td>Alex : Luke got his head stuck in the banister...</td>\n",
       "      <td>Alex : I'm just gonna say it... he needs to be...</td>\n",
       "      <td>Alex : You don't even...</td>\n",
       "      <td>Alex : And do what?</td>\n",
       "      <td>Alex : MOM! DAD!</td>\n",
       "      <td>Alex : Luke just shot me!</td>\n",
       "      <td>Alex : No, the little bitch shot me!</td>\n",
       "      <td>Alex : What's more important here dad?</td>\n",
       "      <td>Alex : What about three?</td>\n",
       "      <td>...</td>\n",
       "      <td>NaN</td>\n",
       "      <td>NaN</td>\n",
       "      <td>NaN</td>\n",
       "      <td>NaN</td>\n",
       "      <td>NaN</td>\n",
       "      <td>NaN</td>\n",
       "      <td>NaN</td>\n",
       "      <td>NaN</td>\n",
       "      <td>NaN</td>\n",
       "      <td>NaN</td>\n",
       "    </tr>\n",
       "    <tr>\n",
       "      <th>4</th>\n",
       "      <td>Luke</td>\n",
       "      <td>Luke : I thought I could get out this time.</td>\n",
       "      <td>Luke : Oh, a boy! You gonna kiss him?</td>\n",
       "      <td>Luke : I didn't mean to!</td>\n",
       "      <td>Luke : They're only plastic bb's! It was an ac...</td>\n",
       "      <td>Luke : I'm so sorry!</td>\n",
       "      <td>Luke : Oh, come on!</td>\n",
       "      <td>Luke : Nothing.</td>\n",
       "      <td>Luke : One ... Six.</td>\n",
       "      <td>Luke : You're to close, it's gonna hurt.</td>\n",
       "      <td>...</td>\n",
       "      <td>NaN</td>\n",
       "      <td>NaN</td>\n",
       "      <td>NaN</td>\n",
       "      <td>NaN</td>\n",
       "      <td>NaN</td>\n",
       "      <td>NaN</td>\n",
       "      <td>NaN</td>\n",
       "      <td>NaN</td>\n",
       "      <td>NaN</td>\n",
       "      <td>NaN</td>\n",
       "    </tr>\n",
       "    <tr>\n",
       "      <th>5</th>\n",
       "      <td>Gloria</td>\n",
       "      <td>Gloria : Bravo Manny! Kick it! Kick it! Manny ...</td>\n",
       "      <td>Gloria : We're, very different. He's from the ...</td>\n",
       "      <td>Gloria : Yes, the murders.</td>\n",
       "      <td>Gloria : Manny, stop him! Stop him! Mom : Come...</td>\n",
       "      <td>Gloria : You wanna take him out? How about I t...</td>\n",
       "      <td>Gloria : Why don't you worry about your son! H...</td>\n",
       "      <td>Gloria : Hi, I'm Gloria Pritchett... Manny's m...</td>\n",
       "      <td>Gloria : No, you're not quitting. You would ha...</td>\n",
       "      <td>Gloria : If someone says something about my fa...</td>\n",
       "      <td>...</td>\n",
       "      <td>NaN</td>\n",
       "      <td>NaN</td>\n",
       "      <td>NaN</td>\n",
       "      <td>NaN</td>\n",
       "      <td>NaN</td>\n",
       "      <td>NaN</td>\n",
       "      <td>NaN</td>\n",
       "      <td>NaN</td>\n",
       "      <td>NaN</td>\n",
       "      <td>NaN</td>\n",
       "    </tr>\n",
       "    <tr>\n",
       "      <th>6</th>\n",
       "      <td>Jay</td>\n",
       "      <td>Jay : Gloria, there Owen's six, Let's take it ...</td>\n",
       "      <td>Jay : Murders.</td>\n",
       "      <td>Jay : Honey, honey...</td>\n",
       "      <td>Jay : Her dad? Uh, no, no, that's funny. Actua...</td>\n",
       "      <td>Jay : You know Gloria, that blowup with that o...</td>\n",
       "      <td>Jay : I'm just ... saying you could take it do...</td>\n",
       "      <td>Jay : You don't have to be so emotional all th...</td>\n",
       "      <td>Jay : Oh, for God's sake.</td>\n",
       "      <td>Jay : Hey! Watch it!</td>\n",
       "      <td>...</td>\n",
       "      <td>NaN</td>\n",
       "      <td>NaN</td>\n",
       "      <td>NaN</td>\n",
       "      <td>NaN</td>\n",
       "      <td>NaN</td>\n",
       "      <td>NaN</td>\n",
       "      <td>NaN</td>\n",
       "      <td>NaN</td>\n",
       "      <td>NaN</td>\n",
       "      <td>NaN</td>\n",
       "    </tr>\n",
       "    <tr>\n",
       "      <th>7</th>\n",
       "      <td>Manny</td>\n",
       "      <td>Manny : I'm quitting soccer, it is a game for ...</td>\n",
       "      <td>Manny : She is not a girl, She is a woman.</td>\n",
       "      <td>Manny : I wanna tell Brenda Feldman I love her.</td>\n",
       "      <td>Manny : Oh, it's okay for you to take an older...</td>\n",
       "      <td>Manny : I want to go to the mall where she wor...</td>\n",
       "      <td>Manny : Stop the car!</td>\n",
       "      <td>Manny : Brenda Feldman.</td>\n",
       "      <td>Manny : A poem I’ve written for Brenda Feldman.</td>\n",
       "      <td>Manny : I put my thoughts into words, and now ...</td>\n",
       "      <td>...</td>\n",
       "      <td>NaN</td>\n",
       "      <td>NaN</td>\n",
       "      <td>NaN</td>\n",
       "      <td>NaN</td>\n",
       "      <td>NaN</td>\n",
       "      <td>NaN</td>\n",
       "      <td>NaN</td>\n",
       "      <td>NaN</td>\n",
       "      <td>NaN</td>\n",
       "      <td>NaN</td>\n",
       "    </tr>\n",
       "    <tr>\n",
       "      <th>8</th>\n",
       "      <td>Cam</td>\n",
       "      <td>Cameron : Sorry, sorry, sorry, Daddy needed sn...</td>\n",
       "      <td>Cameron : Then we figured, they are already me...</td>\n",
       "      <td>Cameron : You are not giving a speech ... you ...</td>\n",
       "      <td>Cameron : Mitchell!</td>\n",
       "      <td>Cameron : Mitchell!!</td>\n",
       "      <td>Cameron : She's got the cream puffs.</td>\n",
       "      <td>Cameron : We would like to pay for everyone's ...</td>\n",
       "      <td>Cameron : Oh, stop worrying!</td>\n",
       "      <td>Cameron : I guess that's possible.</td>\n",
       "      <td>...</td>\n",
       "      <td>NaN</td>\n",
       "      <td>NaN</td>\n",
       "      <td>NaN</td>\n",
       "      <td>NaN</td>\n",
       "      <td>NaN</td>\n",
       "      <td>NaN</td>\n",
       "      <td>NaN</td>\n",
       "      <td>NaN</td>\n",
       "      <td>NaN</td>\n",
       "      <td>NaN</td>\n",
       "    </tr>\n",
       "    <tr>\n",
       "      <th>9</th>\n",
       "      <td>Mitch</td>\n",
       "      <td>Mitchell : Who's the good girl? Who's that?</td>\n",
       "      <td>Mitchell : Oh, thank you!</td>\n",
       "      <td>Mitchell : Hello. Hi, hi. We've just adopted h...</td>\n",
       "      <td>Mitchell : We have been together for... five, ...</td>\n",
       "      <td>Mitchell : You saw that right? Everybody fondl...</td>\n",
       "      <td>Mitchell : You're right, it's okay, I'm sorry.</td>\n",
       "      <td>Mitchell : Okay, excuse me. Excuse me, but thi...</td>\n",
       "      <td>Mitchell : ... creed or gender and shame on yo...</td>\n",
       "      <td>Mitchell : What?</td>\n",
       "      <td>...</td>\n",
       "      <td>NaN</td>\n",
       "      <td>NaN</td>\n",
       "      <td>NaN</td>\n",
       "      <td>NaN</td>\n",
       "      <td>NaN</td>\n",
       "      <td>NaN</td>\n",
       "      <td>NaN</td>\n",
       "      <td>NaN</td>\n",
       "      <td>NaN</td>\n",
       "      <td>NaN</td>\n",
       "    </tr>\n",
       "    <tr>\n",
       "      <th>10</th>\n",
       "      <td>Lily</td>\n",
       "      <td>Lily : Mommy!</td>\n",
       "      <td>Lily : Mommy!</td>\n",
       "      <td>NaN</td>\n",
       "      <td>NaN</td>\n",
       "      <td>NaN</td>\n",
       "      <td>NaN</td>\n",
       "      <td>NaN</td>\n",
       "      <td>NaN</td>\n",
       "      <td>NaN</td>\n",
       "      <td>...</td>\n",
       "      <td>NaN</td>\n",
       "      <td>NaN</td>\n",
       "      <td>NaN</td>\n",
       "      <td>NaN</td>\n",
       "      <td>NaN</td>\n",
       "      <td>NaN</td>\n",
       "      <td>NaN</td>\n",
       "      <td>NaN</td>\n",
       "      <td>NaN</td>\n",
       "      <td>NaN</td>\n",
       "    </tr>\n",
       "  </tbody>\n",
       "</table>\n",
       "<p>11 rows × 1146 columns</p>\n",
       "</div>"
      ],
      "text/plain": [
       "      Name                                                  0  \\\n",
       "0     Phil                           Phil : Yeah, just a sec.   \n",
       "1   Claire  Claire : Kids, breakfast! Kids? Phil, would yo...   \n",
       "2    Haley  Haley : Why are you guys yelling at us, when w...   \n",
       "3     Alex  Alex : Luke got his head stuck in the banister...   \n",
       "4     Luke        Luke : I thought I could get out this time.   \n",
       "5   Gloria  Gloria : Bravo Manny! Kick it! Kick it! Manny ...   \n",
       "6      Jay  Jay : Gloria, there Owen's six, Let's take it ...   \n",
       "7    Manny  Manny : I'm quitting soccer, it is a game for ...   \n",
       "8      Cam  Cameron : Sorry, sorry, sorry, Daddy needed sn...   \n",
       "9    Mitch        Mitchell : Who's the good girl? Who's that?   \n",
       "10    Lily                                      Lily : Mommy!   \n",
       "\n",
       "                                                    1  \\\n",
       "0                                Phil : That is so,..   \n",
       "1                                      Claire : Kids!   \n",
       "2                       Haley : What's Wrong with it?   \n",
       "3   Alex : I'm just gonna say it... he needs to be...   \n",
       "4               Luke : Oh, a boy! You gonna kiss him?   \n",
       "5   Gloria : We're, very different. He's from the ...   \n",
       "6                                      Jay : Murders.   \n",
       "7          Manny : She is not a girl, She is a woman.   \n",
       "8   Cameron : Then we figured, they are already me...   \n",
       "9                           Mitchell : Oh, thank you!   \n",
       "10                                      Lily : Mommy!   \n",
       "\n",
       "                                                    2  \\\n",
       "0                         Phil : Kids, get down here!   \n",
       "1                                    Claire : Okay...   \n",
       "2                                     Haley : Thanks!   \n",
       "3                            Alex : You don't even...   \n",
       "4                            Luke : I didn't mean to!   \n",
       "5                          Gloria : Yes, the murders.   \n",
       "6                               Jay : Honey, honey...   \n",
       "7     Manny : I wanna tell Brenda Feldman I love her.   \n",
       "8   Cameron : You are not giving a speech ... you ...   \n",
       "9   Mitchell : Hello. Hi, hi. We've just adopted h...   \n",
       "10                                                NaN   \n",
       "\n",
       "                                                    3  \\\n",
       "0   Phil : Sorry? Oh yeah, that looks really cute ...   \n",
       "1   Claire : Alright, That's not gonna happen, and...   \n",
       "2             Haley : I'm having a friend over today.   \n",
       "3                                 Alex : And do what?   \n",
       "4   Luke : They're only plastic bb's! It was an ac...   \n",
       "5   Gloria : Manny, stop him! Stop him! Mom : Come...   \n",
       "6   Jay : Her dad? Uh, no, no, that's funny. Actua...   \n",
       "7   Manny : Oh, it's okay for you to take an older...   \n",
       "8                                 Cameron : Mitchell!   \n",
       "9   Mitchell : We have been together for... five, ...   \n",
       "10                                                NaN   \n",
       "\n",
       "                                                    4  \\\n",
       "0              Phil : I got it. Where's the baby oil?   \n",
       "1   Claire : Honey, do you have anything to say to...   \n",
       "2                         Haley : You don't know him.   \n",
       "3                                    Alex : MOM! DAD!   \n",
       "4                                Luke : I'm so sorry!   \n",
       "5   Gloria : You wanna take him out? How about I t...   \n",
       "6   Jay : You know Gloria, that blowup with that o...   \n",
       "7   Manny : I want to go to the mall where she wor...   \n",
       "8                                Cameron : Mitchell!!   \n",
       "9   Mitchell : You saw that right? Everybody fondl...   \n",
       "10                                                NaN   \n",
       "\n",
       "                                                    5  \\\n",
       "0                                     Phil : Our job.   \n",
       "1   Claire : No, it's way to short, people know yo...   \n",
       "2                                    Haley : Shut up!   \n",
       "3                           Alex : Luke just shot me!   \n",
       "4                                 Luke : Oh, come on!   \n",
       "5   Gloria : Why don't you worry about your son! H...   \n",
       "6   Jay : I'm just ... saying you could take it do...   \n",
       "7                               Manny : Stop the car!   \n",
       "8                Cameron : She's got the cream puffs.   \n",
       "9      Mitchell : You're right, it's okay, I'm sorry.   \n",
       "10                                                NaN   \n",
       "\n",
       "                                                    6  \\\n",
       "0   Phil : Buddy, why do you keep getting stuck li...   \n",
       "1   Claire : It's on our bedside tip... I Don't kn...   \n",
       "2   Haley : His name is Dylan ... You know, I migh...   \n",
       "3                Alex : No, the little bitch shot me!   \n",
       "4                                     Luke : Nothing.   \n",
       "5   Gloria : Hi, I'm Gloria Pritchett... Manny's m...   \n",
       "6   Jay : You don't have to be so emotional all th...   \n",
       "7                             Manny : Brenda Feldman.   \n",
       "8   Cameron : We would like to pay for everyone's ...   \n",
       "9   Mitchell : Okay, excuse me. Excuse me, but thi...   \n",
       "10                                                NaN   \n",
       "\n",
       "                                                    7  \\\n",
       "0                   Phil : There! Be free, Excalibur!   \n",
       "1   Claire : I... was out of control growing up, t...   \n",
       "2               Haley : Don't answer it, I'll get it!   \n",
       "3              Alex : What's more important here dad?   \n",
       "4                                 Luke : One ... Six.   \n",
       "5   Gloria : No, you're not quitting. You would ha...   \n",
       "6                           Jay : Oh, for God's sake.   \n",
       "7     Manny : A poem I’ve written for Brenda Feldman.   \n",
       "8                        Cameron : Oh, stop worrying!   \n",
       "9   Mitchell : ... creed or gender and shame on yo...   \n",
       "10                                                NaN   \n",
       "\n",
       "                                                    8  ...            1135  \\\n",
       "0                                  Phil : Easy. Easy.  ...  Phil : Gloria.   \n",
       "1                Claire : Right... I've done our job.  ...             NaN   \n",
       "2                     Haley : Hey, come on, let's go.  ...             NaN   \n",
       "3                            Alex : What about three?  ...             NaN   \n",
       "4            Luke : You're to close, it's gonna hurt.  ...             NaN   \n",
       "5   Gloria : If someone says something about my fa...  ...             NaN   \n",
       "6                                Jay : Hey! Watch it!  ...             NaN   \n",
       "7   Manny : I put my thoughts into words, and now ...  ...             NaN   \n",
       "8                  Cameron : I guess that's possible.  ...             NaN   \n",
       "9                                    Mitchell : What?  ...             NaN   \n",
       "10                                                NaN  ...             NaN   \n",
       "\n",
       "              1136                        1137                        1138  \\\n",
       "0   Phil : No. No.  Phil : You saw that, too?!  Phil : I-I got this, baby.   \n",
       "1              NaN                         NaN                         NaN   \n",
       "2              NaN                         NaN                         NaN   \n",
       "3              NaN                         NaN                         NaN   \n",
       "4              NaN                         NaN                         NaN   \n",
       "5              NaN                         NaN                         NaN   \n",
       "6              NaN                         NaN                         NaN   \n",
       "7              NaN                         NaN                         NaN   \n",
       "8              NaN                         NaN                         NaN   \n",
       "9              NaN                         NaN                         NaN   \n",
       "10             NaN                         NaN                         NaN   \n",
       "\n",
       "                   1139                                      1140  \\\n",
       "0   Phil : Kill me now.  Phil : Don't know how... I got so lucky.   \n",
       "1                   NaN                                       NaN   \n",
       "2                   NaN                                       NaN   \n",
       "3                   NaN                                       NaN   \n",
       "4                   NaN                                       NaN   \n",
       "5                   NaN                                       NaN   \n",
       "6                   NaN                                       NaN   \n",
       "7                   NaN                                       NaN   \n",
       "8                   NaN                                       NaN   \n",
       "9                   NaN                                       NaN   \n",
       "10                  NaN                                       NaN   \n",
       "\n",
       "                  1141          1142            1143  \\\n",
       "0   Phil : I love you.  Phil : Yeah.  Phil : No. No.   \n",
       "1                  NaN           NaN             NaN   \n",
       "2                  NaN           NaN             NaN   \n",
       "3                  NaN           NaN             NaN   \n",
       "4                  NaN           NaN             NaN   \n",
       "5                  NaN           NaN             NaN   \n",
       "6                  NaN           NaN             NaN   \n",
       "7                  NaN           NaN             NaN   \n",
       "8                  NaN           NaN             NaN   \n",
       "9                  NaN           NaN             NaN   \n",
       "10                 NaN           NaN             NaN   \n",
       "\n",
       "                                                1144  \n",
       "0   Phil : Honey!  Modern Family Season 1x24 page 7   \n",
       "1                                                NaN  \n",
       "2                                                NaN  \n",
       "3                                                NaN  \n",
       "4                                                NaN  \n",
       "5                                                NaN  \n",
       "6                                                NaN  \n",
       "7                                                NaN  \n",
       "8                                                NaN  \n",
       "9                                                NaN  \n",
       "10                                               NaN  \n",
       "\n",
       "[11 rows x 1146 columns]"
      ]
     },
     "execution_count": 11,
     "metadata": {},
     "output_type": "execute_result"
    }
   ],
   "source": [
    "s1"
   ]
  },
  {
   "cell_type": "code",
   "execution_count": 12,
   "id": "b92e1d27",
   "metadata": {},
   "outputs": [],
   "source": [
    "phil = []\n",
    "claire = []\n",
    "haley = []\n",
    "alex = []\n",
    "luke = []\n",
    "gloria = []\n",
    "jay = []\n",
    "manny = []\n",
    "cam = []\n",
    "mitch = []\n",
    "lily = []\n",
    "chars = [phil, claire, haley, alex, luke, gloria, jay, manny, cam, mitch, lily]"
   ]
  },
  {
   "cell_type": "code",
   "execution_count": 13,
   "id": "3b4770e8",
   "metadata": {},
   "outputs": [],
   "source": [
    "#Returns an array structured such as \n",
    "#array[Character][Season]\n",
    "\n",
    "def Char_Sent(Characters, Data):\n",
    "    row = 0\n",
    "    full_p = []\n",
    "    for char in Characters:\n",
    "        predictions = []\n",
    "        for season in Data:\n",
    "            predict = forestpipe.predict(season.iloc[row].dropna())\n",
    "            predictions.append(predict)\n",
    "        full_p.append(predictions)\n",
    "        row = row+1\n",
    "    return full_p"
   ]
  },
  {
   "cell_type": "code",
   "execution_count": 14,
   "id": "cb15b338",
   "metadata": {},
   "outputs": [],
   "source": [
    "chars = Char_Sent(chars, seasons)"
   ]
  },
  {
   "cell_type": "code",
   "execution_count": 15,
   "id": "2a9d3ab2",
   "metadata": {},
   "outputs": [],
   "source": [
    "#Returns an array structued as \n",
    "#array[Season][Character]\n",
    "def Season_Sent(Data):\n",
    "    seasonal = []\n",
    "    for season in Data:\n",
    "        predictions = []\n",
    "        for x in range(11):\n",
    "            predict = forestpipe.predict(season.iloc[x][1:].dropna())\n",
    "            predictions.append(predict)\n",
    "        seasonal.append(predictions)\n",
    "    return seasonal"
   ]
  },
  {
   "cell_type": "code",
   "execution_count": 16,
   "id": "e790ca62",
   "metadata": {},
   "outputs": [],
   "source": [
    "season_sentiments = Season_Sent(seasons)"
   ]
  },
  {
   "cell_type": "code",
   "execution_count": 46,
   "id": "3bb5d933",
   "metadata": {},
   "outputs": [],
   "source": [
    "def PositiveSeasonRatio(character):\n",
    "    pos = 0.0 \n",
    "    neg = 0.0\n",
    "    for season in character:\n",
    "        for sent in season:\n",
    "            if sent == 0:\n",
    "                neg = neg + 1.0\n",
    "            else:\n",
    "                pos = pos + 1.0\n",
    "    return pos/(neg+pos)"
   ]
  },
  {
   "cell_type": "code",
   "execution_count": 48,
   "id": "f49aa621",
   "metadata": {},
   "outputs": [],
   "source": [
    "def PositiveCharRatio(character):\n",
    "    pos = 0.0 \n",
    "    neg = 0.0\n",
    "    for sent in character:\n",
    "        if sent == 0:\n",
    "            neg = neg + 1.0\n",
    "        else:\n",
    "            pos = pos + 1.0\n",
    "    return pos/(neg+pos)"
   ]
  },
  {
   "cell_type": "code",
   "execution_count": 66,
   "id": "67446f3c",
   "metadata": {},
   "outputs": [],
   "source": [
    "def full_ratio(data):\n",
    "    ratios = []\n",
    "        \n",
    "    c_ratios = []\n",
    "    for j in range(11):\n",
    "        predictions = []\n",
    "        total_predict = []\n",
    "        for season in data:\n",
    "            predict = forestpipe.predict(season.iloc[j].dropna())\n",
    "            predictions.append(PositiveCharRatio(predict))\n",
    "            total_predict.append(predict)\n",
    "        \n",
    "        predictions.append(PositiveSeasonRatio(total_predict))\n",
    "        ratios.append(predictions)\n",
    "        \n",
    "    \n",
    "    return ratios"
   ]
  },
  {
   "cell_type": "code",
   "execution_count": 62,
   "id": "4f400421",
   "metadata": {},
   "outputs": [],
   "source": [
    "def seasonal_ratio(data):\n",
    "    ratios = []\n",
    "    \n",
    "    s_ratios = []\n",
    "    j = 0\n",
    "    for season in data:\n",
    "        predictions = []\n",
    "        for x in range(11):\n",
    "            predict = forestpipe.predict(season.iloc[x][1:].dropna())\n",
    "            predictions.append(predict)\n",
    "        s_ratios.append(PositiveSeasonRatio(predictions))\n",
    "        l = len(s_ratios)\n",
    "        av = sum(s_ratios)/l\n",
    "        ratios[j].append(av)\n",
    "        j = j +1\n",
    "    \n",
    "    return ratios"
   ]
  },
  {
   "cell_type": "code",
   "execution_count": 20,
   "id": "b071b42f",
   "metadata": {},
   "outputs": [
    {
     "data": {
      "text/plain": [
       "0.6446280991735537"
      ]
     },
     "execution_count": 20,
     "metadata": {},
     "output_type": "execute_result"
    }
   ],
   "source": [
    "PositiveRatio(chars[0])"
   ]
  },
  {
   "cell_type": "code",
   "execution_count": 21,
   "id": "0b61ca73",
   "metadata": {},
   "outputs": [
    {
     "data": {
      "text/plain": [
       "0.6267470539873938"
      ]
     },
     "execution_count": 21,
     "metadata": {},
     "output_type": "execute_result"
    }
   ],
   "source": [
    "PositiveRatio(chars[1])"
   ]
  },
  {
   "cell_type": "code",
   "execution_count": 22,
   "id": "287745cd",
   "metadata": {},
   "outputs": [
    {
     "data": {
      "text/plain": [
       "0.5408593091828138"
      ]
     },
     "execution_count": 22,
     "metadata": {},
     "output_type": "execute_result"
    }
   ],
   "source": [
    "PositiveRatio(chars[2])"
   ]
  },
  {
   "cell_type": "code",
   "execution_count": 23,
   "id": "007710d7",
   "metadata": {},
   "outputs": [
    {
     "data": {
      "text/plain": [
       "0.5626326963906582"
      ]
     },
     "execution_count": 23,
     "metadata": {},
     "output_type": "execute_result"
    }
   ],
   "source": [
    "PositiveRatio(chars[3])"
   ]
  },
  {
   "cell_type": "code",
   "execution_count": 24,
   "id": "51714c14",
   "metadata": {},
   "outputs": [
    {
     "data": {
      "text/plain": [
       "0.5854398382204247"
      ]
     },
     "execution_count": 24,
     "metadata": {},
     "output_type": "execute_result"
    }
   ],
   "source": [
    "PositiveRatio(chars[4])"
   ]
  },
  {
   "cell_type": "code",
   "execution_count": 25,
   "id": "05aa6fea",
   "metadata": {},
   "outputs": [
    {
     "data": {
      "text/plain": [
       "0.5910891089108911"
      ]
     },
     "execution_count": 25,
     "metadata": {},
     "output_type": "execute_result"
    }
   ],
   "source": [
    "PositiveRatio(chars[5])"
   ]
  },
  {
   "cell_type": "code",
   "execution_count": 26,
   "id": "4897d3dc",
   "metadata": {},
   "outputs": [
    {
     "data": {
      "text/plain": [
       "0.5935238095238096"
      ]
     },
     "execution_count": 26,
     "metadata": {},
     "output_type": "execute_result"
    }
   ],
   "source": [
    "PositiveRatio(chars[6])"
   ]
  },
  {
   "cell_type": "code",
   "execution_count": 27,
   "id": "c7485042",
   "metadata": {},
   "outputs": [
    {
     "data": {
      "text/plain": [
       "0.5944186046511628"
      ]
     },
     "execution_count": 27,
     "metadata": {},
     "output_type": "execute_result"
    }
   ],
   "source": [
    "PositiveRatio(chars[7])"
   ]
  },
  {
   "cell_type": "code",
   "execution_count": 28,
   "id": "30a60f0f",
   "metadata": {},
   "outputs": [
    {
     "data": {
      "text/plain": [
       "0.6280193236714976"
      ]
     },
     "execution_count": 28,
     "metadata": {},
     "output_type": "execute_result"
    }
   ],
   "source": [
    "PositiveRatio(chars[8])"
   ]
  },
  {
   "cell_type": "code",
   "execution_count": 29,
   "id": "00ab73aa",
   "metadata": {},
   "outputs": [
    {
     "data": {
      "text/plain": [
       "0.592871830020562"
      ]
     },
     "execution_count": 29,
     "metadata": {},
     "output_type": "execute_result"
    }
   ],
   "source": [
    "PositiveRatio(chars[9])"
   ]
  },
  {
   "cell_type": "code",
   "execution_count": 30,
   "id": "034abbe3",
   "metadata": {},
   "outputs": [
    {
     "data": {
      "text/plain": [
       "0.6153846153846154"
      ]
     },
     "execution_count": 30,
     "metadata": {},
     "output_type": "execute_result"
    }
   ],
   "source": [
    "PositiveRatio(chars[10])"
   ]
  },
  {
   "cell_type": "code",
   "execution_count": 67,
   "id": "8d20fc17",
   "metadata": {},
   "outputs": [],
   "source": [
    "character_ratios = full_ratio(seasons)"
   ]
  },
  {
   "cell_type": "code",
   "execution_count": 69,
   "id": "4a801bf4",
   "metadata": {},
   "outputs": [
    {
     "ename": "IndexError",
     "evalue": "list index out of range",
     "output_type": "error",
     "traceback": [
      "\u001b[1;31m---------------------------------------------------------------------------\u001b[0m",
      "\u001b[1;31mIndexError\u001b[0m                                Traceback (most recent call last)",
      "\u001b[1;32m<ipython-input-69-d53ca7020d98>\u001b[0m in \u001b[0;36m<module>\u001b[1;34m\u001b[0m\n\u001b[1;32m----> 1\u001b[1;33m \u001b[0mseason_ratios\u001b[0m \u001b[1;33m=\u001b[0m \u001b[0mseasonal_ratio\u001b[0m\u001b[1;33m(\u001b[0m\u001b[0mseasons\u001b[0m\u001b[1;33m)\u001b[0m\u001b[1;33m\u001b[0m\u001b[1;33m\u001b[0m\u001b[0m\n\u001b[0m",
      "\u001b[1;32m<ipython-input-62-5904f35d5157>\u001b[0m in \u001b[0;36mseasonal_ratio\u001b[1;34m(data)\u001b[0m\n\u001b[0;32m     12\u001b[0m         \u001b[0ml\u001b[0m \u001b[1;33m=\u001b[0m \u001b[0mlen\u001b[0m\u001b[1;33m(\u001b[0m\u001b[0ms_ratios\u001b[0m\u001b[1;33m)\u001b[0m\u001b[1;33m\u001b[0m\u001b[1;33m\u001b[0m\u001b[0m\n\u001b[0;32m     13\u001b[0m         \u001b[0mav\u001b[0m \u001b[1;33m=\u001b[0m \u001b[0msum\u001b[0m\u001b[1;33m(\u001b[0m\u001b[0ms_ratios\u001b[0m\u001b[1;33m)\u001b[0m\u001b[1;33m/\u001b[0m\u001b[0ml\u001b[0m\u001b[1;33m\u001b[0m\u001b[1;33m\u001b[0m\u001b[0m\n\u001b[1;32m---> 14\u001b[1;33m         \u001b[0mratios\u001b[0m\u001b[1;33m[\u001b[0m\u001b[0mj\u001b[0m\u001b[1;33m]\u001b[0m\u001b[1;33m.\u001b[0m\u001b[0mappend\u001b[0m\u001b[1;33m(\u001b[0m\u001b[0mav\u001b[0m\u001b[1;33m)\u001b[0m\u001b[1;33m\u001b[0m\u001b[1;33m\u001b[0m\u001b[0m\n\u001b[0m\u001b[0;32m     15\u001b[0m         \u001b[0mj\u001b[0m \u001b[1;33m=\u001b[0m \u001b[0mj\u001b[0m \u001b[1;33m+\u001b[0m\u001b[1;36m1\u001b[0m\u001b[1;33m\u001b[0m\u001b[1;33m\u001b[0m\u001b[0m\n\u001b[0;32m     16\u001b[0m \u001b[1;33m\u001b[0m\u001b[0m\n",
      "\u001b[1;31mIndexError\u001b[0m: list index out of range"
     ]
    }
   ],
   "source": [
    "season_ratios = seasonal_ratio(seasons)"
   ]
  },
  {
   "cell_type": "code",
   "execution_count": 68,
   "id": "73d6153f",
   "metadata": {},
   "outputs": [
    {
     "data": {
      "text/plain": [
       "[[0.6422338568935427,\n",
       "  0.6391465677179963,\n",
       "  0.6499032882011605,\n",
       "  0.6573705179282868,\n",
       "  0.6446280991735537],\n",
       " [0.6403985507246377,\n",
       "  0.6327185244587009,\n",
       "  0.6049382716049383,\n",
       "  0.6285714285714286,\n",
       "  0.6267470539873938],\n",
       " [0.5313531353135313,\n",
       "  0.5264423076923077,\n",
       "  0.5532994923857868,\n",
       "  0.5945945945945946,\n",
       "  0.5408593091828138],\n",
       " [0.5583333333333333,\n",
       "  0.5063694267515924,\n",
       "  0.616822429906542,\n",
       "  0.582089552238806,\n",
       "  0.5626326963906582],\n",
       " [0.5836298932384342,\n",
       "  0.555921052631579,\n",
       "  0.601123595505618,\n",
       "  0.6666666666666666,\n",
       "  0.5854398382204247],\n",
       " [0.6204506065857885,\n",
       "  0.6111111111111112,\n",
       "  0.551617873651772,\n",
       "  0.5546875,\n",
       "  0.5910891089108911],\n",
       " [0.6056511056511057,\n",
       "  0.5943728018757327,\n",
       "  0.5836627140974967,\n",
       "  0.5778894472361809,\n",
       "  0.5935238095238096],\n",
       " [0.5732484076433121,\n",
       "  0.6130952380952381,\n",
       "  0.6011396011396012,\n",
       "  0.5675675675675675,\n",
       "  0.5944186046511628],\n",
       " [0.6580027359781122,\n",
       "  0.6187134502923977,\n",
       "  0.6144578313253012,\n",
       "  0.6181818181818182,\n",
       "  0.6280193236714976],\n",
       " [0.5753424657534246,\n",
       "  0.6101123595505618,\n",
       "  0.5853391684901532,\n",
       "  0.6218487394957983,\n",
       "  0.592871830020562],\n",
       " [1.0, 1.0, 0.6086956521739131, 0.5869565217391305, 0.6153846153846154]]"
      ]
     },
     "execution_count": 68,
     "metadata": {},
     "output_type": "execute_result"
    }
   ],
   "source": [
    "character_ratios"
   ]
  },
  {
   "cell_type": "code",
   "execution_count": 64,
   "id": "d93703e0",
   "metadata": {},
   "outputs": [
    {
     "data": {
      "text/plain": [
       "[[0.6130448416431483],\n",
       " [0.6092562337712144],\n",
       " [0.6059631689988656],\n",
       " [0.606859157654902]]"
      ]
     },
     "execution_count": 64,
     "metadata": {},
     "output_type": "execute_result"
    }
   ],
   "source": [
    "season_ratios"
   ]
  },
  {
   "cell_type": "code",
   "execution_count": 80,
   "id": "4f141e9c",
   "metadata": {},
   "outputs": [
    {
     "name": "stdout",
     "output_type": "stream",
     "text": [
      "[[0.64223386 0.63914657 0.64990329 0.65737052 0.6446281 ]\n",
      " [0.64039855 0.63271852 0.60493827 0.62857143 0.62674705]\n",
      " [0.53135314 0.52644231 0.55329949 0.59459459 0.54085931]\n",
      " [0.55833333 0.50636943 0.61682243 0.58208955 0.5626327 ]\n",
      " [0.58362989 0.55592105 0.6011236  0.66666667 0.58543984]\n",
      " [0.62045061 0.61111111 0.55161787 0.5546875  0.59108911]\n",
      " [0.60565111 0.5943728  0.58366271 0.57788945 0.59352381]\n",
      " [0.57324841 0.61309524 0.6011396  0.56756757 0.5944186 ]\n",
      " [0.65800274 0.61871345 0.61445783 0.61818182 0.62801932]\n",
      " [0.57534247 0.61011236 0.58533917 0.62184874 0.59287183]]\n"
     ]
    },
    {
     "data": {
      "image/png": "[encoded data removed]",
      "text/plain": [
       "<Figure size 432x288 with 1 Axes>"
      ]
     },
     "metadata": {
      "needs_background": "light"
     },
     "output_type": "display_data"
    }
   ],
   "source": [
    "import matplotlib.pyplot as plt\n",
    "import numpy as np\n",
    "\n",
    "data = np.array(character_ratios[:10])\n",
    "print(data)\n",
    "\n",
    "x = np.arange(data.shape[0])\n",
    "dx =(np.arange(data.shape[1])- data.shape[1]/2.)/(data.shape[1]+2.)\n",
    "d = 1./(data.shape[1]+2)\n",
    "\n",
    "fig, ax=plt.subplots()\n",
    "for i in range(data.shape[1]):\n",
    "    if i<3:\n",
    "        ax.bar(x+dx[i], data[:,i], width=d, label = \"Season {}\".format(i))\n",
    "    if i == 3:\n",
    "        ax.bar(x+dx[i], data[:,i], width=d, label = \"Season {}\".format(5))\n",
    "    if i == 4:\n",
    "        ax.bar(x+dx[i], data[:,i], width=d+0.1, label = \"Average\")\n",
    "plt.ylim(0.50,0.8)\n",
    "\n",
    "plt.xlabel('Characters')\n",
    "plt.ylabel('Positivity Ratio')\n",
    "plt.title('Positivity Ratio by Character')\n",
    "plt.xticks(x, ['Phil', 'Claire', 'Haley', 'Alex', 'Luke', 'Gloria',\n",
    "                   'Jay', 'Manny', 'Cam', 'Mitch'])\n",
    "plt.legend(framealpha=1)\n",
    "plt.show()"
   ]
  },
  {
   "cell_type": "code",
   "execution_count": 81,
   "id": "1252711d",
   "metadata": {},
   "outputs": [
    {
     "ename": "TypeError",
     "evalue": "only size-1 arrays can be converted to Python scalars",
     "output_type": "error",
     "traceback": [
      "\u001b[1;31m---------------------------------------------------------------------------\u001b[0m",
      "\u001b[1;31mTypeError\u001b[0m                                 Traceback (most recent call last)",
      "\u001b[1;32m<ipython-input-81-da034def4007>\u001b[0m in \u001b[0;36m<module>\u001b[1;34m\u001b[0m\n\u001b[0;32m      3\u001b[0m \u001b[0mopacity\u001b[0m \u001b[1;33m=\u001b[0m \u001b[1;36m0.4\u001b[0m\u001b[1;33m\u001b[0m\u001b[1;33m\u001b[0m\u001b[0m\n\u001b[0;32m      4\u001b[0m \u001b[1;33m\u001b[0m\u001b[0m\n\u001b[1;32m----> 5\u001b[1;33m \u001b[0mrect\u001b[0m \u001b[1;33m=\u001b[0m \u001b[0mplt\u001b[0m\u001b[1;33m.\u001b[0m\u001b[0mbar\u001b[0m\u001b[1;33m(\u001b[0m\u001b[0mindex\u001b[0m\u001b[1;33m,\u001b[0m \u001b[0mseason_ratios\u001b[0m\u001b[1;33m,\u001b[0m \u001b[0mbar_width\u001b[0m\u001b[1;33m,\u001b[0m \u001b[0malpha\u001b[0m\u001b[1;33m=\u001b[0m\u001b[0mopacity\u001b[0m\u001b[1;33m)\u001b[0m\u001b[1;33m\u001b[0m\u001b[1;33m\u001b[0m\u001b[0m\n\u001b[0m\u001b[0;32m      6\u001b[0m \u001b[1;33m\u001b[0m\u001b[0m\n\u001b[0;32m      7\u001b[0m \u001b[0mplt\u001b[0m\u001b[1;33m.\u001b[0m\u001b[0mxlabel\u001b[0m\u001b[1;33m(\u001b[0m\u001b[1;34m'Season'\u001b[0m\u001b[1;33m)\u001b[0m\u001b[1;33m\u001b[0m\u001b[1;33m\u001b[0m\u001b[0m\n",
      "\u001b[1;32m~\\anaconda3\\lib\\site-packages\\matplotlib\\pyplot.py\u001b[0m in \u001b[0;36mbar\u001b[1;34m(x, height, width, bottom, align, data, **kwargs)\u001b[0m\n\u001b[0;32m   2485\u001b[0m         \u001b[0mx\u001b[0m\u001b[1;33m,\u001b[0m \u001b[0mheight\u001b[0m\u001b[1;33m,\u001b[0m \u001b[0mwidth\u001b[0m\u001b[1;33m=\u001b[0m\u001b[1;36m0.8\u001b[0m\u001b[1;33m,\u001b[0m \u001b[0mbottom\u001b[0m\u001b[1;33m=\u001b[0m\u001b[1;32mNone\u001b[0m\u001b[1;33m,\u001b[0m \u001b[1;33m*\u001b[0m\u001b[1;33m,\u001b[0m \u001b[0malign\u001b[0m\u001b[1;33m=\u001b[0m\u001b[1;34m'center'\u001b[0m\u001b[1;33m,\u001b[0m\u001b[1;33m\u001b[0m\u001b[1;33m\u001b[0m\u001b[0m\n\u001b[0;32m   2486\u001b[0m         data=None, **kwargs):\n\u001b[1;32m-> 2487\u001b[1;33m     return gca().bar(\n\u001b[0m\u001b[0;32m   2488\u001b[0m         \u001b[0mx\u001b[0m\u001b[1;33m,\u001b[0m \u001b[0mheight\u001b[0m\u001b[1;33m,\u001b[0m \u001b[0mwidth\u001b[0m\u001b[1;33m=\u001b[0m\u001b[0mwidth\u001b[0m\u001b[1;33m,\u001b[0m \u001b[0mbottom\u001b[0m\u001b[1;33m=\u001b[0m\u001b[0mbottom\u001b[0m\u001b[1;33m,\u001b[0m \u001b[0malign\u001b[0m\u001b[1;33m=\u001b[0m\u001b[0malign\u001b[0m\u001b[1;33m,\u001b[0m\u001b[1;33m\u001b[0m\u001b[1;33m\u001b[0m\u001b[0m\n\u001b[0;32m   2489\u001b[0m         **({\"data\": data} if data is not None else {}), **kwargs)\n",
      "\u001b[1;32m~\\anaconda3\\lib\\site-packages\\matplotlib\\__init__.py\u001b[0m in \u001b[0;36minner\u001b[1;34m(ax, data, *args, **kwargs)\u001b[0m\n\u001b[0;32m   1445\u001b[0m     \u001b[1;32mdef\u001b[0m \u001b[0minner\u001b[0m\u001b[1;33m(\u001b[0m\u001b[0max\u001b[0m\u001b[1;33m,\u001b[0m \u001b[1;33m*\u001b[0m\u001b[0margs\u001b[0m\u001b[1;33m,\u001b[0m \u001b[0mdata\u001b[0m\u001b[1;33m=\u001b[0m\u001b[1;32mNone\u001b[0m\u001b[1;33m,\u001b[0m \u001b[1;33m**\u001b[0m\u001b[0mkwargs\u001b[0m\u001b[1;33m)\u001b[0m\u001b[1;33m:\u001b[0m\u001b[1;33m\u001b[0m\u001b[1;33m\u001b[0m\u001b[0m\n\u001b[0;32m   1446\u001b[0m         \u001b[1;32mif\u001b[0m \u001b[0mdata\u001b[0m \u001b[1;32mis\u001b[0m \u001b[1;32mNone\u001b[0m\u001b[1;33m:\u001b[0m\u001b[1;33m\u001b[0m\u001b[1;33m\u001b[0m\u001b[0m\n\u001b[1;32m-> 1447\u001b[1;33m             \u001b[1;32mreturn\u001b[0m \u001b[0mfunc\u001b[0m\u001b[1;33m(\u001b[0m\u001b[0max\u001b[0m\u001b[1;33m,\u001b[0m \u001b[1;33m*\u001b[0m\u001b[0mmap\u001b[0m\u001b[1;33m(\u001b[0m\u001b[0msanitize_sequence\u001b[0m\u001b[1;33m,\u001b[0m \u001b[0margs\u001b[0m\u001b[1;33m)\u001b[0m\u001b[1;33m,\u001b[0m \u001b[1;33m**\u001b[0m\u001b[0mkwargs\u001b[0m\u001b[1;33m)\u001b[0m\u001b[1;33m\u001b[0m\u001b[1;33m\u001b[0m\u001b[0m\n\u001b[0m\u001b[0;32m   1448\u001b[0m \u001b[1;33m\u001b[0m\u001b[0m\n\u001b[0;32m   1449\u001b[0m         \u001b[0mbound\u001b[0m \u001b[1;33m=\u001b[0m \u001b[0mnew_sig\u001b[0m\u001b[1;33m.\u001b[0m\u001b[0mbind\u001b[0m\u001b[1;33m(\u001b[0m\u001b[0max\u001b[0m\u001b[1;33m,\u001b[0m \u001b[1;33m*\u001b[0m\u001b[0margs\u001b[0m\u001b[1;33m,\u001b[0m \u001b[1;33m**\u001b[0m\u001b[0mkwargs\u001b[0m\u001b[1;33m)\u001b[0m\u001b[1;33m\u001b[0m\u001b[1;33m\u001b[0m\u001b[0m\n",
      "\u001b[1;32m~\\anaconda3\\lib\\site-packages\\matplotlib\\axes\\_axes.py\u001b[0m in \u001b[0;36mbar\u001b[1;34m(self, x, height, width, bottom, align, **kwargs)\u001b[0m\n\u001b[0;32m   2479\u001b[0m         \u001b[0margs\u001b[0m \u001b[1;33m=\u001b[0m \u001b[0mzip\u001b[0m\u001b[1;33m(\u001b[0m\u001b[0mleft\u001b[0m\u001b[1;33m,\u001b[0m \u001b[0mbottom\u001b[0m\u001b[1;33m,\u001b[0m \u001b[0mwidth\u001b[0m\u001b[1;33m,\u001b[0m \u001b[0mheight\u001b[0m\u001b[1;33m,\u001b[0m \u001b[0mcolor\u001b[0m\u001b[1;33m,\u001b[0m \u001b[0medgecolor\u001b[0m\u001b[1;33m,\u001b[0m \u001b[0mlinewidth\u001b[0m\u001b[1;33m)\u001b[0m\u001b[1;33m\u001b[0m\u001b[1;33m\u001b[0m\u001b[0m\n\u001b[0;32m   2480\u001b[0m         \u001b[1;32mfor\u001b[0m \u001b[0ml\u001b[0m\u001b[1;33m,\u001b[0m \u001b[0mb\u001b[0m\u001b[1;33m,\u001b[0m \u001b[0mw\u001b[0m\u001b[1;33m,\u001b[0m \u001b[0mh\u001b[0m\u001b[1;33m,\u001b[0m \u001b[0mc\u001b[0m\u001b[1;33m,\u001b[0m \u001b[0me\u001b[0m\u001b[1;33m,\u001b[0m \u001b[0mlw\u001b[0m \u001b[1;32min\u001b[0m \u001b[0margs\u001b[0m\u001b[1;33m:\u001b[0m\u001b[1;33m\u001b[0m\u001b[1;33m\u001b[0m\u001b[0m\n\u001b[1;32m-> 2481\u001b[1;33m             r = mpatches.Rectangle(\n\u001b[0m\u001b[0;32m   2482\u001b[0m                 \u001b[0mxy\u001b[0m\u001b[1;33m=\u001b[0m\u001b[1;33m(\u001b[0m\u001b[0ml\u001b[0m\u001b[1;33m,\u001b[0m \u001b[0mb\u001b[0m\u001b[1;33m)\u001b[0m\u001b[1;33m,\u001b[0m \u001b[0mwidth\u001b[0m\u001b[1;33m=\u001b[0m\u001b[0mw\u001b[0m\u001b[1;33m,\u001b[0m \u001b[0mheight\u001b[0m\u001b[1;33m=\u001b[0m\u001b[0mh\u001b[0m\u001b[1;33m,\u001b[0m\u001b[1;33m\u001b[0m\u001b[1;33m\u001b[0m\u001b[0m\n\u001b[0;32m   2483\u001b[0m                 \u001b[0mfacecolor\u001b[0m\u001b[1;33m=\u001b[0m\u001b[0mc\u001b[0m\u001b[1;33m,\u001b[0m\u001b[1;33m\u001b[0m\u001b[1;33m\u001b[0m\u001b[0m\n",
      "\u001b[1;32m~\\anaconda3\\lib\\site-packages\\matplotlib\\patches.py\u001b[0m in \u001b[0;36m__init__\u001b[1;34m(self, xy, width, height, angle, **kwargs)\u001b[0m\n\u001b[0;32m    740\u001b[0m         \"\"\"\n\u001b[0;32m    741\u001b[0m \u001b[1;33m\u001b[0m\u001b[0m\n\u001b[1;32m--> 742\u001b[1;33m         \u001b[0mPatch\u001b[0m\u001b[1;33m.\u001b[0m\u001b[0m__init__\u001b[0m\u001b[1;33m(\u001b[0m\u001b[0mself\u001b[0m\u001b[1;33m,\u001b[0m \u001b[1;33m**\u001b[0m\u001b[0mkwargs\u001b[0m\u001b[1;33m)\u001b[0m\u001b[1;33m\u001b[0m\u001b[1;33m\u001b[0m\u001b[0m\n\u001b[0m\u001b[0;32m    743\u001b[0m \u001b[1;33m\u001b[0m\u001b[0m\n\u001b[0;32m    744\u001b[0m         \u001b[0mself\u001b[0m\u001b[1;33m.\u001b[0m\u001b[0m_x0\u001b[0m \u001b[1;33m=\u001b[0m \u001b[0mxy\u001b[0m\u001b[1;33m[\u001b[0m\u001b[1;36m0\u001b[0m\u001b[1;33m]\u001b[0m\u001b[1;33m\u001b[0m\u001b[1;33m\u001b[0m\u001b[0m\n",
      "\u001b[1;32m~\\anaconda3\\lib\\site-packages\\matplotlib\\patches.py\u001b[0m in \u001b[0;36m__init__\u001b[1;34m(self, edgecolor, facecolor, color, linewidth, linestyle, antialiased, hatch, fill, capstyle, joinstyle, **kwargs)\u001b[0m\n\u001b[0;32m     86\u001b[0m         \u001b[0mself\u001b[0m\u001b[1;33m.\u001b[0m\u001b[0mset_fill\u001b[0m\u001b[1;33m(\u001b[0m\u001b[0mfill\u001b[0m\u001b[1;33m)\u001b[0m\u001b[1;33m\u001b[0m\u001b[1;33m\u001b[0m\u001b[0m\n\u001b[0;32m     87\u001b[0m         \u001b[0mself\u001b[0m\u001b[1;33m.\u001b[0m\u001b[0mset_linestyle\u001b[0m\u001b[1;33m(\u001b[0m\u001b[0mlinestyle\u001b[0m\u001b[1;33m)\u001b[0m\u001b[1;33m\u001b[0m\u001b[1;33m\u001b[0m\u001b[0m\n\u001b[1;32m---> 88\u001b[1;33m         \u001b[0mself\u001b[0m\u001b[1;33m.\u001b[0m\u001b[0mset_linewidth\u001b[0m\u001b[1;33m(\u001b[0m\u001b[0mlinewidth\u001b[0m\u001b[1;33m)\u001b[0m\u001b[1;33m\u001b[0m\u001b[1;33m\u001b[0m\u001b[0m\n\u001b[0m\u001b[0;32m     89\u001b[0m         \u001b[0mself\u001b[0m\u001b[1;33m.\u001b[0m\u001b[0mset_antialiased\u001b[0m\u001b[1;33m(\u001b[0m\u001b[0mantialiased\u001b[0m\u001b[1;33m)\u001b[0m\u001b[1;33m\u001b[0m\u001b[1;33m\u001b[0m\u001b[0m\n\u001b[0;32m     90\u001b[0m         \u001b[0mself\u001b[0m\u001b[1;33m.\u001b[0m\u001b[0mset_hatch\u001b[0m\u001b[1;33m(\u001b[0m\u001b[0mhatch\u001b[0m\u001b[1;33m)\u001b[0m\u001b[1;33m\u001b[0m\u001b[1;33m\u001b[0m\u001b[0m\n",
      "\u001b[1;32m~\\anaconda3\\lib\\site-packages\\matplotlib\\patches.py\u001b[0m in \u001b[0;36mset_linewidth\u001b[1;34m(self, w)\u001b[0m\n\u001b[0;32m    391\u001b[0m                 \u001b[0mw\u001b[0m \u001b[1;33m=\u001b[0m \u001b[0mmpl\u001b[0m\u001b[1;33m.\u001b[0m\u001b[0mrcParams\u001b[0m\u001b[1;33m[\u001b[0m\u001b[1;34m'axes.linewidth'\u001b[0m\u001b[1;33m]\u001b[0m\u001b[1;33m\u001b[0m\u001b[1;33m\u001b[0m\u001b[0m\n\u001b[0;32m    392\u001b[0m \u001b[1;33m\u001b[0m\u001b[0m\n\u001b[1;32m--> 393\u001b[1;33m         \u001b[0mself\u001b[0m\u001b[1;33m.\u001b[0m\u001b[0m_linewidth\u001b[0m \u001b[1;33m=\u001b[0m \u001b[0mfloat\u001b[0m\u001b[1;33m(\u001b[0m\u001b[0mw\u001b[0m\u001b[1;33m)\u001b[0m\u001b[1;33m\u001b[0m\u001b[1;33m\u001b[0m\u001b[0m\n\u001b[0m\u001b[0;32m    394\u001b[0m         \u001b[1;31m# scale the dash pattern by the linewidth\u001b[0m\u001b[1;33m\u001b[0m\u001b[1;33m\u001b[0m\u001b[1;33m\u001b[0m\u001b[0m\n\u001b[0;32m    395\u001b[0m         \u001b[0moffset\u001b[0m\u001b[1;33m,\u001b[0m \u001b[0mls\u001b[0m \u001b[1;33m=\u001b[0m \u001b[0mself\u001b[0m\u001b[1;33m.\u001b[0m\u001b[0m_us_dashes\u001b[0m\u001b[1;33m\u001b[0m\u001b[1;33m\u001b[0m\u001b[0m\n",
      "\u001b[1;31mTypeError\u001b[0m: only size-1 arrays can be converted to Python scalars"
     ]
    },
    {
     "data": {
      "image/png": "[encoded data removed]",
      "text/plain": [
       "<Figure size 432x288 with 1 Axes>"
      ]
     },
     "metadata": {
      "needs_background": "light"
     },
     "output_type": "display_data"
    }
   ],
   "source": [
    "index = np.arange(4)\n",
    "bar_width = 0.70\n",
    "opacity = 0.4\n",
    "\n",
    "rect = plt.bar(index, season_ratios, bar_width, alpha=opacity)\n",
    "\n",
    "plt.xlabel('Season')\n",
    "plt.ylabel('Positivity Ratio')\n",
    "plt.title('Positivity Ratio by Season')\n",
    "plt.xticks(index, ['Season 1', 'Season 2', 'Season 3', 'Season 5'])\n",
    "plt.ylim(0.6,0.7)\n",
    "plt.show()"
   ]
  },
  {
   "cell_type": "code",
   "execution_count": null,
   "id": "3dfdf736",
   "metadata": {},
   "outputs": [],
   "source": []
  },
  {
   "cell_type": "code",
   "execution_count": null,
   "id": "39bae6df",
   "metadata": {},
   "outputs": [],
   "source": []
  },
  {
   "cell_type": "code",
   "execution_count": null,
   "id": "ee4f74c8",
   "metadata": {},
   "outputs": [],
   "source": []
  }
 ],
 "metadata": {
  "kernelspec": {
   "display_name": "Python 3",
   "language": "python",
   "name": "python3"
  },
  "language_info": {
   "codemirror_mode": {
    "name": "ipython",
    "version": 3
   },
   "file_extension": ".py",
   "mimetype": "text/x-python",
   "name": "python",
   "nbconvert_exporter": "python",
   "pygments_lexer": "ipython3",
   "version": "3.8.8"
  }
 },
 "nbformat": 4,
 "nbformat_minor": 5
}
